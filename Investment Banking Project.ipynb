{
 "cells": [
  {
   "cell_type": "code",
   "execution_count": 1,
   "id": "daf2e663",
   "metadata": {},
   "outputs": [],
   "source": [
    "import pandas as pd"
   ]
  },
  {
   "cell_type": "code",
   "execution_count": 2,
   "id": "1a95d9fe",
   "metadata": {
    "scrolled": false
   },
   "outputs": [],
   "source": [
    "data=pd.read_excel(\"C:\\\\Users\\\\Vikas Kanderai H R\\\\Desktop\\\\Data Sets\\\\investment_banking.xlsx\")"
   ]
  },
  {
   "cell_type": "code",
   "execution_count": 3,
   "id": "949606a4",
   "metadata": {},
   "outputs": [
    {
     "data": {
      "text/html": [
       "<div>\n",
       "<style scoped>\n",
       "    .dataframe tbody tr th:only-of-type {\n",
       "        vertical-align: middle;\n",
       "    }\n",
       "\n",
       "    .dataframe tbody tr th {\n",
       "        vertical-align: top;\n",
       "    }\n",
       "\n",
       "    .dataframe thead th {\n",
       "        text-align: right;\n",
       "    }\n",
       "</style>\n",
       "<table border=\"1\" class=\"dataframe\">\n",
       "  <thead>\n",
       "    <tr style=\"text-align: right;\">\n",
       "      <th></th>\n",
       "      <th>broker_id</th>\n",
       "      <th>city</th>\n",
       "      <th>broker_type</th>\n",
       "      <th>fund_category</th>\n",
       "      <th>email_opened</th>\n",
       "      <th>webex_meet</th>\n",
       "      <th>sales_call</th>\n",
       "      <th>firm_sales</th>\n",
       "      <th>global_sales</th>\n",
       "    </tr>\n",
       "  </thead>\n",
       "  <tbody>\n",
       "    <tr>\n",
       "      <th>0</th>\n",
       "      <td>BRXX-1</td>\n",
       "      <td>PLANTATION, FL</td>\n",
       "      <td>Inter-dealer broker</td>\n",
       "      <td>Emerging-Markets Local-Currency Bond</td>\n",
       "      <td>NaN</td>\n",
       "      <td>NaN</td>\n",
       "      <td>NaN</td>\n",
       "      <td>174.62</td>\n",
       "      <td>174.62</td>\n",
       "    </tr>\n",
       "    <tr>\n",
       "      <th>1</th>\n",
       "      <td>BRXX-1</td>\n",
       "      <td>BRANFORD, CT</td>\n",
       "      <td>Inter-dealer broker</td>\n",
       "      <td>Utilities</td>\n",
       "      <td>NaN</td>\n",
       "      <td>NaN</td>\n",
       "      <td>NaN</td>\n",
       "      <td>0.00</td>\n",
       "      <td>0.00</td>\n",
       "    </tr>\n",
       "    <tr>\n",
       "      <th>2</th>\n",
       "      <td>BRXX-1</td>\n",
       "      <td>JONESBORO, GA</td>\n",
       "      <td>Inter-dealer broker</td>\n",
       "      <td>Intermediate Government</td>\n",
       "      <td>NaN</td>\n",
       "      <td>NaN</td>\n",
       "      <td>NaN</td>\n",
       "      <td>0.00</td>\n",
       "      <td>0.00</td>\n",
       "    </tr>\n",
       "    <tr>\n",
       "      <th>3</th>\n",
       "      <td>BRXX-2</td>\n",
       "      <td>VIENNA, VA</td>\n",
       "      <td>Inter-dealer broker</td>\n",
       "      <td>Intermediate Government</td>\n",
       "      <td>Y</td>\n",
       "      <td>NaN</td>\n",
       "      <td>NaN</td>\n",
       "      <td>0.00</td>\n",
       "      <td>30709.00</td>\n",
       "    </tr>\n",
       "    <tr>\n",
       "      <th>4</th>\n",
       "      <td>BRXX-3</td>\n",
       "      <td>CHAGRIN FALLS, OH</td>\n",
       "      <td>full-service broker</td>\n",
       "      <td>Target-Date 2050</td>\n",
       "      <td>Y</td>\n",
       "      <td>NaN</td>\n",
       "      <td>Y</td>\n",
       "      <td>0.00</td>\n",
       "      <td>0.00</td>\n",
       "    </tr>\n",
       "  </tbody>\n",
       "</table>\n",
       "</div>"
      ],
      "text/plain": [
       "  broker_id               city          broker_type  \\\n",
       "0    BRXX-1     PLANTATION, FL  Inter-dealer broker   \n",
       "1    BRXX-1       BRANFORD, CT  Inter-dealer broker   \n",
       "2    BRXX-1      JONESBORO, GA  Inter-dealer broker   \n",
       "3    BRXX-2         VIENNA, VA  Inter-dealer broker   \n",
       "4    BRXX-3  CHAGRIN FALLS, OH  full-service broker   \n",
       "\n",
       "                          fund_category email_opened webex_meet sales_call  \\\n",
       "0  Emerging-Markets Local-Currency Bond          NaN        NaN        NaN   \n",
       "1                             Utilities          NaN        NaN        NaN   \n",
       "2               Intermediate Government          NaN        NaN        NaN   \n",
       "3               Intermediate Government            Y        NaN        NaN   \n",
       "4                      Target-Date 2050            Y        NaN          Y   \n",
       "\n",
       "   firm_sales  global_sales  \n",
       "0      174.62        174.62  \n",
       "1        0.00          0.00  \n",
       "2        0.00          0.00  \n",
       "3        0.00      30709.00  \n",
       "4        0.00          0.00  "
      ]
     },
     "execution_count": 3,
     "metadata": {},
     "output_type": "execute_result"
    }
   ],
   "source": [
    "data.head()"
   ]
  },
  {
   "cell_type": "code",
   "execution_count": 4,
   "id": "4dc94b5b",
   "metadata": {},
   "outputs": [
    {
     "data": {
      "text/plain": [
       "Index(['broker_id', 'city', 'broker_type', 'fund_category', 'email_opened',\n",
       "       'webex_meet', 'sales_call', 'firm_sales', 'global_sales'],\n",
       "      dtype='object')"
      ]
     },
     "execution_count": 4,
     "metadata": {},
     "output_type": "execute_result"
    }
   ],
   "source": [
    "data.columns"
   ]
  },
  {
   "cell_type": "code",
   "execution_count": 5,
   "id": "a8500859",
   "metadata": {},
   "outputs": [
    {
     "data": {
      "text/plain": [
       "['broker_id',\n",
       " 'city',\n",
       " 'broker_type',\n",
       " 'fund_category',\n",
       " 'email_opened',\n",
       " 'webex_meet',\n",
       " 'sales_call',\n",
       " 'firm_sales',\n",
       " 'global_sales']"
      ]
     },
     "execution_count": 5,
     "metadata": {},
     "output_type": "execute_result"
    }
   ],
   "source": [
    "list(data.columns)"
   ]
  },
  {
   "cell_type": "code",
   "execution_count": 6,
   "id": "265969f6",
   "metadata": {},
   "outputs": [
    {
     "data": {
      "text/plain": [
       "(753089, 9)"
      ]
     },
     "execution_count": 6,
     "metadata": {},
     "output_type": "execute_result"
    }
   ],
   "source": [
    "data.shape"
   ]
  },
  {
   "cell_type": "code",
   "execution_count": 7,
   "id": "438d9113",
   "metadata": {},
   "outputs": [
    {
     "data": {
      "text/html": [
       "<div>\n",
       "<style scoped>\n",
       "    .dataframe tbody tr th:only-of-type {\n",
       "        vertical-align: middle;\n",
       "    }\n",
       "\n",
       "    .dataframe tbody tr th {\n",
       "        vertical-align: top;\n",
       "    }\n",
       "\n",
       "    .dataframe thead th {\n",
       "        text-align: right;\n",
       "    }\n",
       "</style>\n",
       "<table border=\"1\" class=\"dataframe\">\n",
       "  <thead>\n",
       "    <tr style=\"text-align: right;\">\n",
       "      <th></th>\n",
       "      <th>broker_id</th>\n",
       "      <th>city</th>\n",
       "      <th>broker_type</th>\n",
       "      <th>fund_category</th>\n",
       "      <th>email_opened</th>\n",
       "      <th>webex_meet</th>\n",
       "      <th>sales_call</th>\n",
       "      <th>firm_sales</th>\n",
       "      <th>global_sales</th>\n",
       "    </tr>\n",
       "  </thead>\n",
       "  <tbody>\n",
       "    <tr>\n",
       "      <th>0</th>\n",
       "      <td>False</td>\n",
       "      <td>False</td>\n",
       "      <td>False</td>\n",
       "      <td>False</td>\n",
       "      <td>True</td>\n",
       "      <td>True</td>\n",
       "      <td>True</td>\n",
       "      <td>False</td>\n",
       "      <td>False</td>\n",
       "    </tr>\n",
       "    <tr>\n",
       "      <th>1</th>\n",
       "      <td>False</td>\n",
       "      <td>False</td>\n",
       "      <td>False</td>\n",
       "      <td>False</td>\n",
       "      <td>True</td>\n",
       "      <td>True</td>\n",
       "      <td>True</td>\n",
       "      <td>False</td>\n",
       "      <td>False</td>\n",
       "    </tr>\n",
       "    <tr>\n",
       "      <th>2</th>\n",
       "      <td>False</td>\n",
       "      <td>False</td>\n",
       "      <td>False</td>\n",
       "      <td>False</td>\n",
       "      <td>True</td>\n",
       "      <td>True</td>\n",
       "      <td>True</td>\n",
       "      <td>False</td>\n",
       "      <td>False</td>\n",
       "    </tr>\n",
       "    <tr>\n",
       "      <th>3</th>\n",
       "      <td>False</td>\n",
       "      <td>False</td>\n",
       "      <td>False</td>\n",
       "      <td>False</td>\n",
       "      <td>False</td>\n",
       "      <td>True</td>\n",
       "      <td>True</td>\n",
       "      <td>False</td>\n",
       "      <td>False</td>\n",
       "    </tr>\n",
       "    <tr>\n",
       "      <th>4</th>\n",
       "      <td>False</td>\n",
       "      <td>False</td>\n",
       "      <td>False</td>\n",
       "      <td>False</td>\n",
       "      <td>False</td>\n",
       "      <td>True</td>\n",
       "      <td>False</td>\n",
       "      <td>False</td>\n",
       "      <td>False</td>\n",
       "    </tr>\n",
       "    <tr>\n",
       "      <th>...</th>\n",
       "      <td>...</td>\n",
       "      <td>...</td>\n",
       "      <td>...</td>\n",
       "      <td>...</td>\n",
       "      <td>...</td>\n",
       "      <td>...</td>\n",
       "      <td>...</td>\n",
       "      <td>...</td>\n",
       "      <td>...</td>\n",
       "    </tr>\n",
       "    <tr>\n",
       "      <th>753084</th>\n",
       "      <td>False</td>\n",
       "      <td>False</td>\n",
       "      <td>False</td>\n",
       "      <td>False</td>\n",
       "      <td>False</td>\n",
       "      <td>True</td>\n",
       "      <td>False</td>\n",
       "      <td>False</td>\n",
       "      <td>False</td>\n",
       "    </tr>\n",
       "    <tr>\n",
       "      <th>753085</th>\n",
       "      <td>False</td>\n",
       "      <td>False</td>\n",
       "      <td>False</td>\n",
       "      <td>False</td>\n",
       "      <td>True</td>\n",
       "      <td>True</td>\n",
       "      <td>True</td>\n",
       "      <td>False</td>\n",
       "      <td>False</td>\n",
       "    </tr>\n",
       "    <tr>\n",
       "      <th>753086</th>\n",
       "      <td>False</td>\n",
       "      <td>False</td>\n",
       "      <td>False</td>\n",
       "      <td>False</td>\n",
       "      <td>True</td>\n",
       "      <td>True</td>\n",
       "      <td>True</td>\n",
       "      <td>False</td>\n",
       "      <td>False</td>\n",
       "    </tr>\n",
       "    <tr>\n",
       "      <th>753087</th>\n",
       "      <td>False</td>\n",
       "      <td>False</td>\n",
       "      <td>False</td>\n",
       "      <td>False</td>\n",
       "      <td>True</td>\n",
       "      <td>True</td>\n",
       "      <td>True</td>\n",
       "      <td>False</td>\n",
       "      <td>False</td>\n",
       "    </tr>\n",
       "    <tr>\n",
       "      <th>753088</th>\n",
       "      <td>False</td>\n",
       "      <td>False</td>\n",
       "      <td>False</td>\n",
       "      <td>False</td>\n",
       "      <td>True</td>\n",
       "      <td>True</td>\n",
       "      <td>False</td>\n",
       "      <td>False</td>\n",
       "      <td>False</td>\n",
       "    </tr>\n",
       "  </tbody>\n",
       "</table>\n",
       "<p>753089 rows × 9 columns</p>\n",
       "</div>"
      ],
      "text/plain": [
       "        broker_id   city  broker_type  fund_category  email_opened  \\\n",
       "0           False  False        False          False          True   \n",
       "1           False  False        False          False          True   \n",
       "2           False  False        False          False          True   \n",
       "3           False  False        False          False         False   \n",
       "4           False  False        False          False         False   \n",
       "...           ...    ...          ...            ...           ...   \n",
       "753084      False  False        False          False         False   \n",
       "753085      False  False        False          False          True   \n",
       "753086      False  False        False          False          True   \n",
       "753087      False  False        False          False          True   \n",
       "753088      False  False        False          False          True   \n",
       "\n",
       "        webex_meet  sales_call  firm_sales  global_sales  \n",
       "0             True        True       False         False  \n",
       "1             True        True       False         False  \n",
       "2             True        True       False         False  \n",
       "3             True        True       False         False  \n",
       "4             True       False       False         False  \n",
       "...            ...         ...         ...           ...  \n",
       "753084        True       False       False         False  \n",
       "753085        True        True       False         False  \n",
       "753086        True        True       False         False  \n",
       "753087        True        True       False         False  \n",
       "753088        True       False       False         False  \n",
       "\n",
       "[753089 rows x 9 columns]"
      ]
     },
     "execution_count": 7,
     "metadata": {},
     "output_type": "execute_result"
    }
   ],
   "source": [
    "data.isna()   #true if a value is missing else false"
   ]
  },
  {
   "cell_type": "code",
   "execution_count": 8,
   "id": "6d505f83",
   "metadata": {},
   "outputs": [
    {
     "data": {
      "text/plain": [
       "broker_id             0\n",
       "city                  0\n",
       "broker_type           0\n",
       "fund_category         0\n",
       "email_opened     434545\n",
       "webex_meet       667429\n",
       "sales_call       573091\n",
       "firm_sales            0\n",
       "global_sales          0\n",
       "dtype: int64"
      ]
     },
     "execution_count": 8,
     "metadata": {},
     "output_type": "execute_result"
    }
   ],
   "source": [
    "data.isna().sum()  #gives the number of missing values for each column"
   ]
  },
  {
   "cell_type": "code",
   "execution_count": 9,
   "id": "a3dd4220",
   "metadata": {},
   "outputs": [
    {
     "data": {
      "text/plain": [
       "broker_id         0.000000\n",
       "city              0.000000\n",
       "broker_type       0.000000\n",
       "fund_category     0.000000\n",
       "email_opened     57.701679\n",
       "webex_meet       88.625514\n",
       "sales_call       76.098708\n",
       "firm_sales        0.000000\n",
       "global_sales      0.000000\n",
       "dtype: float64"
      ]
     },
     "execution_count": 9,
     "metadata": {},
     "output_type": "execute_result"
    }
   ],
   "source": [
    "(data.isna().sum()/data.shape[0])*100  #gives the percentage of missing values"
   ]
  },
  {
   "cell_type": "code",
   "execution_count": 10,
   "id": "1bafdf07",
   "metadata": {},
   "outputs": [
    {
     "data": {
      "text/plain": [
       "array([nan, 'Y'], dtype=object)"
      ]
     },
     "execution_count": 10,
     "metadata": {},
     "output_type": "execute_result"
    }
   ],
   "source": [
    "data['sales_call'].unique()"
   ]
  },
  {
   "cell_type": "markdown",
   "id": "c7e06c99",
   "metadata": {},
   "source": [
    "#### Handeling missing values"
   ]
  },
  {
   "cell_type": "code",
   "execution_count": 11,
   "id": "f5c11217",
   "metadata": {},
   "outputs": [],
   "source": [
    "# in these column, it has only 2 values i.e YES and NaN so lets impute all NaN with NO, rather than dropping "
   ]
  },
  {
   "cell_type": "code",
   "execution_count": 12,
   "id": "31fc765d",
   "metadata": {},
   "outputs": [],
   "source": [
    "data['email_opened']= data[\"email_opened\"].fillna(\"N\")\n",
    "data['webex_meet']= data[\"webex_meet\"].fillna(\"N\")\n",
    "data['sales_call']= data[\"sales_call\"].fillna(\"N\")"
   ]
  },
  {
   "cell_type": "code",
   "execution_count": 13,
   "id": "b7397afd",
   "metadata": {},
   "outputs": [
    {
     "data": {
      "text/html": [
       "<div>\n",
       "<style scoped>\n",
       "    .dataframe tbody tr th:only-of-type {\n",
       "        vertical-align: middle;\n",
       "    }\n",
       "\n",
       "    .dataframe tbody tr th {\n",
       "        vertical-align: top;\n",
       "    }\n",
       "\n",
       "    .dataframe thead th {\n",
       "        text-align: right;\n",
       "    }\n",
       "</style>\n",
       "<table border=\"1\" class=\"dataframe\">\n",
       "  <thead>\n",
       "    <tr style=\"text-align: right;\">\n",
       "      <th></th>\n",
       "      <th>broker_id</th>\n",
       "      <th>city</th>\n",
       "      <th>broker_type</th>\n",
       "      <th>fund_category</th>\n",
       "      <th>email_opened</th>\n",
       "      <th>webex_meet</th>\n",
       "      <th>sales_call</th>\n",
       "      <th>firm_sales</th>\n",
       "      <th>global_sales</th>\n",
       "    </tr>\n",
       "  </thead>\n",
       "  <tbody>\n",
       "    <tr>\n",
       "      <th>0</th>\n",
       "      <td>BRXX-1</td>\n",
       "      <td>PLANTATION, FL</td>\n",
       "      <td>Inter-dealer broker</td>\n",
       "      <td>Emerging-Markets Local-Currency Bond</td>\n",
       "      <td>N</td>\n",
       "      <td>N</td>\n",
       "      <td>N</td>\n",
       "      <td>174.62</td>\n",
       "      <td>174.62</td>\n",
       "    </tr>\n",
       "    <tr>\n",
       "      <th>1</th>\n",
       "      <td>BRXX-1</td>\n",
       "      <td>BRANFORD, CT</td>\n",
       "      <td>Inter-dealer broker</td>\n",
       "      <td>Utilities</td>\n",
       "      <td>N</td>\n",
       "      <td>N</td>\n",
       "      <td>N</td>\n",
       "      <td>0.00</td>\n",
       "      <td>0.00</td>\n",
       "    </tr>\n",
       "    <tr>\n",
       "      <th>2</th>\n",
       "      <td>BRXX-1</td>\n",
       "      <td>JONESBORO, GA</td>\n",
       "      <td>Inter-dealer broker</td>\n",
       "      <td>Intermediate Government</td>\n",
       "      <td>N</td>\n",
       "      <td>N</td>\n",
       "      <td>N</td>\n",
       "      <td>0.00</td>\n",
       "      <td>0.00</td>\n",
       "    </tr>\n",
       "    <tr>\n",
       "      <th>3</th>\n",
       "      <td>BRXX-2</td>\n",
       "      <td>VIENNA, VA</td>\n",
       "      <td>Inter-dealer broker</td>\n",
       "      <td>Intermediate Government</td>\n",
       "      <td>Y</td>\n",
       "      <td>N</td>\n",
       "      <td>N</td>\n",
       "      <td>0.00</td>\n",
       "      <td>30709.00</td>\n",
       "    </tr>\n",
       "    <tr>\n",
       "      <th>4</th>\n",
       "      <td>BRXX-3</td>\n",
       "      <td>CHAGRIN FALLS, OH</td>\n",
       "      <td>full-service broker</td>\n",
       "      <td>Target-Date 2050</td>\n",
       "      <td>Y</td>\n",
       "      <td>N</td>\n",
       "      <td>Y</td>\n",
       "      <td>0.00</td>\n",
       "      <td>0.00</td>\n",
       "    </tr>\n",
       "  </tbody>\n",
       "</table>\n",
       "</div>"
      ],
      "text/plain": [
       "  broker_id               city          broker_type  \\\n",
       "0    BRXX-1     PLANTATION, FL  Inter-dealer broker   \n",
       "1    BRXX-1       BRANFORD, CT  Inter-dealer broker   \n",
       "2    BRXX-1      JONESBORO, GA  Inter-dealer broker   \n",
       "3    BRXX-2         VIENNA, VA  Inter-dealer broker   \n",
       "4    BRXX-3  CHAGRIN FALLS, OH  full-service broker   \n",
       "\n",
       "                          fund_category email_opened webex_meet sales_call  \\\n",
       "0  Emerging-Markets Local-Currency Bond            N          N          N   \n",
       "1                             Utilities            N          N          N   \n",
       "2               Intermediate Government            N          N          N   \n",
       "3               Intermediate Government            Y          N          N   \n",
       "4                      Target-Date 2050            Y          N          Y   \n",
       "\n",
       "   firm_sales  global_sales  \n",
       "0      174.62        174.62  \n",
       "1        0.00          0.00  \n",
       "2        0.00          0.00  \n",
       "3        0.00      30709.00  \n",
       "4        0.00          0.00  "
      ]
     },
     "execution_count": 13,
     "metadata": {},
     "output_type": "execute_result"
    }
   ],
   "source": [
    "data.head()"
   ]
  },
  {
   "cell_type": "code",
   "execution_count": 14,
   "id": "4af86c04",
   "metadata": {},
   "outputs": [
    {
     "data": {
      "text/plain": [
       "broker_id        0\n",
       "city             0\n",
       "broker_type      0\n",
       "fund_category    0\n",
       "email_opened     0\n",
       "webex_meet       0\n",
       "sales_call       0\n",
       "firm_sales       0\n",
       "global_sales     0\n",
       "dtype: int64"
      ]
     },
     "execution_count": 14,
     "metadata": {},
     "output_type": "execute_result"
    }
   ],
   "source": [
    "data.isna().sum()"
   ]
  },
  {
   "cell_type": "markdown",
   "id": "f246da7e",
   "metadata": {},
   "source": [
    "#### making columns more readable"
   ]
  },
  {
   "cell_type": "code",
   "execution_count": 15,
   "id": "8d16c416",
   "metadata": {},
   "outputs": [],
   "source": [
    "# spliting the clumn \"city\" into 2 columns \"city and state\""
   ]
  },
  {
   "cell_type": "code",
   "execution_count": 16,
   "id": "0486e490",
   "metadata": {},
   "outputs": [],
   "source": [
    "data[['city','state']]=data['city'].str.split(\",\",n=1,expand=True)  \n",
    "# \"expand\" ensures that the dataframe will get separate columns foe city and state\n",
    "#\"n=1\" considers the first occurance of the come(\",\")"
   ]
  },
  {
   "cell_type": "code",
   "execution_count": 17,
   "id": "0ee67c29",
   "metadata": {},
   "outputs": [
    {
     "data": {
      "text/html": [
       "<div>\n",
       "<style scoped>\n",
       "    .dataframe tbody tr th:only-of-type {\n",
       "        vertical-align: middle;\n",
       "    }\n",
       "\n",
       "    .dataframe tbody tr th {\n",
       "        vertical-align: top;\n",
       "    }\n",
       "\n",
       "    .dataframe thead th {\n",
       "        text-align: right;\n",
       "    }\n",
       "</style>\n",
       "<table border=\"1\" class=\"dataframe\">\n",
       "  <thead>\n",
       "    <tr style=\"text-align: right;\">\n",
       "      <th></th>\n",
       "      <th>broker_id</th>\n",
       "      <th>city</th>\n",
       "      <th>broker_type</th>\n",
       "      <th>fund_category</th>\n",
       "      <th>email_opened</th>\n",
       "      <th>webex_meet</th>\n",
       "      <th>sales_call</th>\n",
       "      <th>firm_sales</th>\n",
       "      <th>global_sales</th>\n",
       "      <th>state</th>\n",
       "    </tr>\n",
       "  </thead>\n",
       "  <tbody>\n",
       "    <tr>\n",
       "      <th>0</th>\n",
       "      <td>BRXX-1</td>\n",
       "      <td>PLANTATION</td>\n",
       "      <td>Inter-dealer broker</td>\n",
       "      <td>Emerging-Markets Local-Currency Bond</td>\n",
       "      <td>N</td>\n",
       "      <td>N</td>\n",
       "      <td>N</td>\n",
       "      <td>174.62</td>\n",
       "      <td>174.62</td>\n",
       "      <td>FL</td>\n",
       "    </tr>\n",
       "    <tr>\n",
       "      <th>1</th>\n",
       "      <td>BRXX-1</td>\n",
       "      <td>BRANFORD</td>\n",
       "      <td>Inter-dealer broker</td>\n",
       "      <td>Utilities</td>\n",
       "      <td>N</td>\n",
       "      <td>N</td>\n",
       "      <td>N</td>\n",
       "      <td>0.00</td>\n",
       "      <td>0.00</td>\n",
       "      <td>CT</td>\n",
       "    </tr>\n",
       "    <tr>\n",
       "      <th>2</th>\n",
       "      <td>BRXX-1</td>\n",
       "      <td>JONESBORO</td>\n",
       "      <td>Inter-dealer broker</td>\n",
       "      <td>Intermediate Government</td>\n",
       "      <td>N</td>\n",
       "      <td>N</td>\n",
       "      <td>N</td>\n",
       "      <td>0.00</td>\n",
       "      <td>0.00</td>\n",
       "      <td>GA</td>\n",
       "    </tr>\n",
       "    <tr>\n",
       "      <th>3</th>\n",
       "      <td>BRXX-2</td>\n",
       "      <td>VIENNA</td>\n",
       "      <td>Inter-dealer broker</td>\n",
       "      <td>Intermediate Government</td>\n",
       "      <td>Y</td>\n",
       "      <td>N</td>\n",
       "      <td>N</td>\n",
       "      <td>0.00</td>\n",
       "      <td>30709.00</td>\n",
       "      <td>VA</td>\n",
       "    </tr>\n",
       "    <tr>\n",
       "      <th>4</th>\n",
       "      <td>BRXX-3</td>\n",
       "      <td>CHAGRIN FALLS</td>\n",
       "      <td>full-service broker</td>\n",
       "      <td>Target-Date 2050</td>\n",
       "      <td>Y</td>\n",
       "      <td>N</td>\n",
       "      <td>Y</td>\n",
       "      <td>0.00</td>\n",
       "      <td>0.00</td>\n",
       "      <td>OH</td>\n",
       "    </tr>\n",
       "  </tbody>\n",
       "</table>\n",
       "</div>"
      ],
      "text/plain": [
       "  broker_id           city          broker_type  \\\n",
       "0    BRXX-1     PLANTATION  Inter-dealer broker   \n",
       "1    BRXX-1       BRANFORD  Inter-dealer broker   \n",
       "2    BRXX-1      JONESBORO  Inter-dealer broker   \n",
       "3    BRXX-2         VIENNA  Inter-dealer broker   \n",
       "4    BRXX-3  CHAGRIN FALLS  full-service broker   \n",
       "\n",
       "                          fund_category email_opened webex_meet sales_call  \\\n",
       "0  Emerging-Markets Local-Currency Bond            N          N          N   \n",
       "1                             Utilities            N          N          N   \n",
       "2               Intermediate Government            N          N          N   \n",
       "3               Intermediate Government            Y          N          N   \n",
       "4                      Target-Date 2050            Y          N          Y   \n",
       "\n",
       "   firm_sales  global_sales state  \n",
       "0      174.62        174.62    FL  \n",
       "1        0.00          0.00    CT  \n",
       "2        0.00          0.00    GA  \n",
       "3        0.00      30709.00    VA  \n",
       "4        0.00          0.00    OH  "
      ]
     },
     "execution_count": 17,
     "metadata": {},
     "output_type": "execute_result"
    }
   ],
   "source": [
    "data.head()"
   ]
  },
  {
   "cell_type": "code",
   "execution_count": 18,
   "id": "23aba961",
   "metadata": {},
   "outputs": [],
   "source": [
    "# creating a dummy df for testing purpose"
   ]
  },
  {
   "cell_type": "code",
   "execution_count": null,
   "id": "e51b0dec",
   "metadata": {},
   "outputs": [],
   "source": []
  },
  {
   "cell_type": "code",
   "execution_count": 19,
   "id": "f64109f1",
   "metadata": {},
   "outputs": [],
   "source": [
    "test_df= data[['state','city']]"
   ]
  },
  {
   "cell_type": "code",
   "execution_count": 20,
   "id": "ba5d9f78",
   "metadata": {},
   "outputs": [
    {
     "data": {
      "text/html": [
       "<div>\n",
       "<style scoped>\n",
       "    .dataframe tbody tr th:only-of-type {\n",
       "        vertical-align: middle;\n",
       "    }\n",
       "\n",
       "    .dataframe tbody tr th {\n",
       "        vertical-align: top;\n",
       "    }\n",
       "\n",
       "    .dataframe thead th {\n",
       "        text-align: right;\n",
       "    }\n",
       "</style>\n",
       "<table border=\"1\" class=\"dataframe\">\n",
       "  <thead>\n",
       "    <tr style=\"text-align: right;\">\n",
       "      <th></th>\n",
       "      <th>state</th>\n",
       "      <th>city</th>\n",
       "    </tr>\n",
       "  </thead>\n",
       "  <tbody>\n",
       "    <tr>\n",
       "      <th>0</th>\n",
       "      <td>FL</td>\n",
       "      <td>PLANTATION</td>\n",
       "    </tr>\n",
       "    <tr>\n",
       "      <th>1</th>\n",
       "      <td>CT</td>\n",
       "      <td>BRANFORD</td>\n",
       "    </tr>\n",
       "    <tr>\n",
       "      <th>2</th>\n",
       "      <td>GA</td>\n",
       "      <td>JONESBORO</td>\n",
       "    </tr>\n",
       "    <tr>\n",
       "      <th>3</th>\n",
       "      <td>VA</td>\n",
       "      <td>VIENNA</td>\n",
       "    </tr>\n",
       "    <tr>\n",
       "      <th>4</th>\n",
       "      <td>OH</td>\n",
       "      <td>CHAGRIN FALLS</td>\n",
       "    </tr>\n",
       "  </tbody>\n",
       "</table>\n",
       "</div>"
      ],
      "text/plain": [
       "  state           city\n",
       "0    FL     PLANTATION\n",
       "1    CT       BRANFORD\n",
       "2    GA      JONESBORO\n",
       "3    VA         VIENNA\n",
       "4    OH  CHAGRIN FALLS"
      ]
     },
     "execution_count": 20,
     "metadata": {},
     "output_type": "execute_result"
    }
   ],
   "source": [
    "test_df.head()"
   ]
  },
  {
   "cell_type": "code",
   "execution_count": 21,
   "id": "e27b2922",
   "metadata": {},
   "outputs": [
    {
     "data": {
      "text/plain": [
       "array([' TN, TN', ' DC, DC'], dtype=object)"
      ]
     },
     "execution_count": 21,
     "metadata": {},
     "output_type": "execute_result"
    }
   ],
   "source": [
    "test_df[test_df['state'].str.len()>4]['state'].unique()"
   ]
  },
  {
   "cell_type": "code",
   "execution_count": 22,
   "id": "fc2c88bf",
   "metadata": {},
   "outputs": [
    {
     "name": "stderr",
     "output_type": "stream",
     "text": [
      "C:\\Users\\Vikas Kanderai H R\\AppData\\Local\\Temp\\ipykernel_19400\\445209385.py:1: SettingWithCopyWarning: \n",
      "A value is trying to be set on a copy of a slice from a DataFrame.\n",
      "Try using .loc[row_indexer,col_indexer] = value instead\n",
      "\n",
      "See the caveats in the documentation: https://pandas.pydata.org/pandas-docs/stable/user_guide/indexing.html#returning-a-view-versus-a-copy\n",
      "  test_df['state']=test_df['state'].str.replace(' ','')\n"
     ]
    }
   ],
   "source": [
    "test_df['state']=test_df['state'].str.replace(' ','')"
   ]
  },
  {
   "cell_type": "code",
   "execution_count": 23,
   "id": "deb14e91",
   "metadata": {},
   "outputs": [
    {
     "data": {
      "text/plain": [
       "array([',MD', ',CT', ',WI', ',VT', ',CA'], dtype=object)"
      ]
     },
     "execution_count": 23,
     "metadata": {},
     "output_type": "execute_result"
    }
   ],
   "source": [
    "test_df[test_df['state'].str.len()==3]['state'].unique()"
   ]
  },
  {
   "cell_type": "code",
   "execution_count": 24,
   "id": "5bb249d3",
   "metadata": {},
   "outputs": [
    {
     "name": "stderr",
     "output_type": "stream",
     "text": [
      "C:\\Users\\Vikas Kanderai H R\\AppData\\Local\\Temp\\ipykernel_19400\\862178952.py:1: SettingWithCopyWarning: \n",
      "A value is trying to be set on a copy of a slice from a DataFrame.\n",
      "Try using .loc[row_indexer,col_indexer] = value instead\n",
      "\n",
      "See the caveats in the documentation: https://pandas.pydata.org/pandas-docs/stable/user_guide/indexing.html#returning-a-view-versus-a-copy\n",
      "  test_df['state']=test_df['state'].str.replace(',','')\n"
     ]
    }
   ],
   "source": [
    "test_df['state']=test_df['state'].str.replace(',','')"
   ]
  },
  {
   "cell_type": "code",
   "execution_count": 25,
   "id": "2538c2b8",
   "metadata": {},
   "outputs": [
    {
     "data": {
      "text/plain": [
       "array([], dtype=object)"
      ]
     },
     "execution_count": 25,
     "metadata": {},
     "output_type": "execute_result"
    }
   ],
   "source": [
    "test_df[test_df['state'].str.len()==3]['state'].unique()"
   ]
  },
  {
   "cell_type": "code",
   "execution_count": 26,
   "id": "af50c2cf",
   "metadata": {},
   "outputs": [
    {
     "name": "stderr",
     "output_type": "stream",
     "text": [
      "C:\\Users\\Vikas Kanderai H R\\AppData\\Local\\Temp\\ipykernel_19400\\652431272.py:1: SettingWithCopyWarning: \n",
      "A value is trying to be set on a copy of a slice from a DataFrame.\n",
      "Try using .loc[row_indexer,col_indexer] = value instead\n",
      "\n",
      "See the caveats in the documentation: https://pandas.pydata.org/pandas-docs/stable/user_guide/indexing.html#returning-a-view-versus-a-copy\n",
      "  test_df['state']=test_df['state'].str.replace('TNTN','TN')\n",
      "C:\\Users\\Vikas Kanderai H R\\AppData\\Local\\Temp\\ipykernel_19400\\652431272.py:2: SettingWithCopyWarning: \n",
      "A value is trying to be set on a copy of a slice from a DataFrame.\n",
      "Try using .loc[row_indexer,col_indexer] = value instead\n",
      "\n",
      "See the caveats in the documentation: https://pandas.pydata.org/pandas-docs/stable/user_guide/indexing.html#returning-a-view-versus-a-copy\n",
      "  test_df['state']=test_df['state'].str.replace('DCDC','DC')\n"
     ]
    }
   ],
   "source": [
    "test_df['state']=test_df['state'].str.replace('TNTN','TN')\n",
    "test_df['state']=test_df['state'].str.replace('DCDC','DC')"
   ]
  },
  {
   "cell_type": "code",
   "execution_count": 27,
   "id": "43857113",
   "metadata": {},
   "outputs": [
    {
     "data": {
      "text/plain": [
       "array([], dtype=object)"
      ]
     },
     "execution_count": 27,
     "metadata": {},
     "output_type": "execute_result"
    }
   ],
   "source": [
    "test_df[test_df['state'].str.len()==4]['state'].unique()"
   ]
  },
  {
   "cell_type": "code",
   "execution_count": 28,
   "id": "9097cd09",
   "metadata": {},
   "outputs": [],
   "source": [
    "#now updating these changes into the original dataframe"
   ]
  },
  {
   "cell_type": "code",
   "execution_count": 29,
   "id": "7fd7038d",
   "metadata": {},
   "outputs": [],
   "source": [
    "data['state']=data['state'].str.replace(' ','')\n",
    "data['state']=data['state'].str.replace(',','')\n",
    "data['state']=data['state'].str.replace('TNTN','TN')\n",
    "data['state']=data['state'].str.replace('DCDC','DC')"
   ]
  },
  {
   "cell_type": "code",
   "execution_count": 30,
   "id": "6a43bd0f",
   "metadata": {},
   "outputs": [
    {
     "data": {
      "text/plain": [
       "array([], dtype=object)"
      ]
     },
     "execution_count": 30,
     "metadata": {},
     "output_type": "execute_result"
    }
   ],
   "source": [
    "data[data['state'].str.len()>2]['state'].unique()"
   ]
  },
  {
   "cell_type": "code",
   "execution_count": 31,
   "id": "deef2bb2",
   "metadata": {},
   "outputs": [
    {
     "data": {
      "text/plain": [
       "0"
      ]
     },
     "execution_count": 31,
     "metadata": {},
     "output_type": "execute_result"
    }
   ],
   "source": [
    "data['state'].str.isnumeric().sum()"
   ]
  },
  {
   "cell_type": "code",
   "execution_count": 32,
   "id": "55c5388f",
   "metadata": {},
   "outputs": [
    {
     "data": {
      "text/plain": [
       "37"
      ]
     },
     "execution_count": 32,
     "metadata": {},
     "output_type": "execute_result"
    }
   ],
   "source": [
    "data['city'].str.isnumeric().sum()"
   ]
  },
  {
   "cell_type": "code",
   "execution_count": 33,
   "id": "858257ef",
   "metadata": {},
   "outputs": [
    {
     "data": {
      "text/html": [
       "<div>\n",
       "<style scoped>\n",
       "    .dataframe tbody tr th:only-of-type {\n",
       "        vertical-align: middle;\n",
       "    }\n",
       "\n",
       "    .dataframe tbody tr th {\n",
       "        vertical-align: top;\n",
       "    }\n",
       "\n",
       "    .dataframe thead th {\n",
       "        text-align: right;\n",
       "    }\n",
       "</style>\n",
       "<table border=\"1\" class=\"dataframe\">\n",
       "  <thead>\n",
       "    <tr style=\"text-align: right;\">\n",
       "      <th></th>\n",
       "      <th>broker_id</th>\n",
       "      <th>city</th>\n",
       "      <th>broker_type</th>\n",
       "      <th>fund_category</th>\n",
       "      <th>email_opened</th>\n",
       "      <th>webex_meet</th>\n",
       "      <th>sales_call</th>\n",
       "      <th>firm_sales</th>\n",
       "      <th>global_sales</th>\n",
       "      <th>state</th>\n",
       "    </tr>\n",
       "  </thead>\n",
       "  <tbody>\n",
       "    <tr>\n",
       "      <th>12956</th>\n",
       "      <td>BRXX-188</td>\n",
       "      <td>64150</td>\n",
       "      <td>Inter-dealer broker</td>\n",
       "      <td>Equity Energy</td>\n",
       "      <td>N</td>\n",
       "      <td>N</td>\n",
       "      <td>N</td>\n",
       "      <td>0.0</td>\n",
       "      <td>0.00</td>\n",
       "      <td>MO</td>\n",
       "    </tr>\n",
       "    <tr>\n",
       "      <th>31538</th>\n",
       "      <td>BRXX-77</td>\n",
       "      <td>15801</td>\n",
       "      <td>Inter-dealer broker</td>\n",
       "      <td>World Small/Mid Stock</td>\n",
       "      <td>N</td>\n",
       "      <td>N</td>\n",
       "      <td>N</td>\n",
       "      <td>0.0</td>\n",
       "      <td>5110.16</td>\n",
       "      <td>PA</td>\n",
       "    </tr>\n",
       "    <tr>\n",
       "      <th>45478</th>\n",
       "      <td>BRXX-188</td>\n",
       "      <td>64150</td>\n",
       "      <td>Inter-dealer broker</td>\n",
       "      <td>Emerging Markets Bond</td>\n",
       "      <td>N</td>\n",
       "      <td>N</td>\n",
       "      <td>N</td>\n",
       "      <td>0.0</td>\n",
       "      <td>0.00</td>\n",
       "      <td>MO</td>\n",
       "    </tr>\n",
       "    <tr>\n",
       "      <th>95111</th>\n",
       "      <td>BRXX-77</td>\n",
       "      <td>15801</td>\n",
       "      <td>Inter-dealer broker</td>\n",
       "      <td>World Bond</td>\n",
       "      <td>N</td>\n",
       "      <td>N</td>\n",
       "      <td>N</td>\n",
       "      <td>0.0</td>\n",
       "      <td>0.00</td>\n",
       "      <td>PA</td>\n",
       "    </tr>\n",
       "    <tr>\n",
       "      <th>107878</th>\n",
       "      <td>BRXX-188</td>\n",
       "      <td>64150</td>\n",
       "      <td>Inter-dealer broker</td>\n",
       "      <td>Short-Term Bond</td>\n",
       "      <td>N</td>\n",
       "      <td>N</td>\n",
       "      <td>N</td>\n",
       "      <td>0.0</td>\n",
       "      <td>0.00</td>\n",
       "      <td>MO</td>\n",
       "    </tr>\n",
       "  </tbody>\n",
       "</table>\n",
       "</div>"
      ],
      "text/plain": [
       "       broker_id   city          broker_type          fund_category  \\\n",
       "12956   BRXX-188  64150  Inter-dealer broker          Equity Energy   \n",
       "31538    BRXX-77  15801  Inter-dealer broker  World Small/Mid Stock   \n",
       "45478   BRXX-188  64150  Inter-dealer broker  Emerging Markets Bond   \n",
       "95111    BRXX-77  15801  Inter-dealer broker             World Bond   \n",
       "107878  BRXX-188  64150  Inter-dealer broker        Short-Term Bond   \n",
       "\n",
       "       email_opened webex_meet sales_call  firm_sales  global_sales state  \n",
       "12956             N          N          N         0.0          0.00    MO  \n",
       "31538             N          N          N         0.0       5110.16    PA  \n",
       "45478             N          N          N         0.0          0.00    MO  \n",
       "95111             N          N          N         0.0          0.00    PA  \n",
       "107878            N          N          N         0.0          0.00    MO  "
      ]
     },
     "execution_count": 33,
     "metadata": {},
     "output_type": "execute_result"
    }
   ],
   "source": [
    "data[data['city'].str.isnumeric()].head()"
   ]
  },
  {
   "cell_type": "code",
   "execution_count": 34,
   "id": "5a9e711b",
   "metadata": {},
   "outputs": [],
   "source": [
    "#some cities are having pincodes instead of the city names"
   ]
  },
  {
   "cell_type": "code",
   "execution_count": 35,
   "id": "bc1e94c7",
   "metadata": {},
   "outputs": [
    {
     "data": {
      "text/plain": [
       "array(['64150', '15801', '95678'], dtype=object)"
      ]
     },
     "execution_count": 35,
     "metadata": {},
     "output_type": "execute_result"
    }
   ],
   "source": [
    "data[data['city'].str.isnumeric()]['city'].unique()"
   ]
  },
  {
   "cell_type": "code",
   "execution_count": 36,
   "id": "d8b0b969",
   "metadata": {},
   "outputs": [],
   "source": [
    "#64150->Riverside\n",
    "# 15801-> DuBois\n",
    "#95678->Roseville"
   ]
  },
  {
   "cell_type": "code",
   "execution_count": 37,
   "id": "5b03d44d",
   "metadata": {},
   "outputs": [],
   "source": [
    "data['city']=data['city'].str.replace('64150','Riverside')\n",
    "data['city']=data['city'].str.replace('15801','DuBois')\n",
    "data['city']=data['city'].str.replace('95678','Roseville')"
   ]
  },
  {
   "cell_type": "code",
   "execution_count": 38,
   "id": "a5c69685",
   "metadata": {},
   "outputs": [
    {
     "data": {
      "text/plain": [
       "0"
      ]
     },
     "execution_count": 38,
     "metadata": {},
     "output_type": "execute_result"
    }
   ],
   "source": [
    "data['city'].str.isnumeric().sum()"
   ]
  },
  {
   "cell_type": "code",
   "execution_count": 39,
   "id": "961646c1",
   "metadata": {},
   "outputs": [
    {
     "data": {
      "text/plain": [
       "0"
      ]
     },
     "execution_count": 39,
     "metadata": {},
     "output_type": "execute_result"
    }
   ],
   "source": [
    "data['email_opened'].str.isnumeric().sum()"
   ]
  },
  {
   "cell_type": "code",
   "execution_count": 40,
   "id": "d77741c6",
   "metadata": {},
   "outputs": [
    {
     "data": {
      "text/plain": [
       "array(['N', 'Y'], dtype=object)"
      ]
     },
     "execution_count": 40,
     "metadata": {},
     "output_type": "execute_result"
    }
   ],
   "source": [
    "data['email_opened'].unique()"
   ]
  },
  {
   "cell_type": "code",
   "execution_count": 41,
   "id": "2874ac5e",
   "metadata": {},
   "outputs": [
    {
     "data": {
      "text/plain": [
       "array(['N', 'Y'], dtype=object)"
      ]
     },
     "execution_count": 41,
     "metadata": {},
     "output_type": "execute_result"
    }
   ],
   "source": [
    "data['webex_meet'].unique()"
   ]
  },
  {
   "cell_type": "code",
   "execution_count": 42,
   "id": "615e4321",
   "metadata": {},
   "outputs": [
    {
     "data": {
      "text/plain": [
       "array(['N', 'Y'], dtype=object)"
      ]
     },
     "execution_count": 42,
     "metadata": {},
     "output_type": "execute_result"
    }
   ],
   "source": [
    "data['sales_call'].unique()"
   ]
  },
  {
   "cell_type": "code",
   "execution_count": 43,
   "id": "c4b20990",
   "metadata": {},
   "outputs": [
    {
     "data": {
      "text/plain": [
       "0"
      ]
     },
     "execution_count": 43,
     "metadata": {},
     "output_type": "execute_result"
    }
   ],
   "source": [
    "data['broker_id'].str.isnumeric().sum()"
   ]
  },
  {
   "cell_type": "code",
   "execution_count": 44,
   "id": "dfac86c6",
   "metadata": {},
   "outputs": [
    {
     "data": {
      "text/plain": [
       "0"
      ]
     },
     "execution_count": 44,
     "metadata": {},
     "output_type": "execute_result"
    }
   ],
   "source": [
    "data['broker_type'].str.isnumeric().sum()"
   ]
  },
  {
   "cell_type": "code",
   "execution_count": 45,
   "id": "051e8b84",
   "metadata": {},
   "outputs": [
    {
     "data": {
      "text/plain": [
       "0"
      ]
     },
     "execution_count": 45,
     "metadata": {},
     "output_type": "execute_result"
    }
   ],
   "source": [
    "data['fund_category'].str.isnumeric().sum()"
   ]
  },
  {
   "cell_type": "code",
   "execution_count": 48,
   "id": "409dceb4",
   "metadata": {},
   "outputs": [
    {
     "data": {
      "text/plain": [
       "0"
      ]
     },
     "execution_count": 48,
     "metadata": {},
     "output_type": "execute_result"
    }
   ],
   "source": [
    "data['broker_id'].str.isalnum().sum()"
   ]
  },
  {
   "cell_type": "markdown",
   "id": "92bdbef8",
   "metadata": {},
   "source": [
    "#### analysis"
   ]
  },
  {
   "cell_type": "code",
   "execution_count": 49,
   "id": "71607624",
   "metadata": {},
   "outputs": [
    {
     "data": {
      "text/html": [
       "<div>\n",
       "<style scoped>\n",
       "    .dataframe tbody tr th:only-of-type {\n",
       "        vertical-align: middle;\n",
       "    }\n",
       "\n",
       "    .dataframe tbody tr th {\n",
       "        vertical-align: top;\n",
       "    }\n",
       "\n",
       "    .dataframe thead th {\n",
       "        text-align: right;\n",
       "    }\n",
       "</style>\n",
       "<table border=\"1\" class=\"dataframe\">\n",
       "  <thead>\n",
       "    <tr style=\"text-align: right;\">\n",
       "      <th></th>\n",
       "      <th>broker_id</th>\n",
       "      <th>city</th>\n",
       "      <th>broker_type</th>\n",
       "      <th>fund_category</th>\n",
       "      <th>email_opened</th>\n",
       "      <th>webex_meet</th>\n",
       "      <th>sales_call</th>\n",
       "      <th>firm_sales</th>\n",
       "      <th>global_sales</th>\n",
       "      <th>state</th>\n",
       "    </tr>\n",
       "  </thead>\n",
       "  <tbody>\n",
       "    <tr>\n",
       "      <th>0</th>\n",
       "      <td>BRXX-1</td>\n",
       "      <td>PLANTATION</td>\n",
       "      <td>Inter-dealer broker</td>\n",
       "      <td>Emerging-Markets Local-Currency Bond</td>\n",
       "      <td>N</td>\n",
       "      <td>N</td>\n",
       "      <td>N</td>\n",
       "      <td>174.62</td>\n",
       "      <td>174.62</td>\n",
       "      <td>FL</td>\n",
       "    </tr>\n",
       "    <tr>\n",
       "      <th>1</th>\n",
       "      <td>BRXX-1</td>\n",
       "      <td>BRANFORD</td>\n",
       "      <td>Inter-dealer broker</td>\n",
       "      <td>Utilities</td>\n",
       "      <td>N</td>\n",
       "      <td>N</td>\n",
       "      <td>N</td>\n",
       "      <td>0.00</td>\n",
       "      <td>0.00</td>\n",
       "      <td>CT</td>\n",
       "    </tr>\n",
       "    <tr>\n",
       "      <th>2</th>\n",
       "      <td>BRXX-1</td>\n",
       "      <td>JONESBORO</td>\n",
       "      <td>Inter-dealer broker</td>\n",
       "      <td>Intermediate Government</td>\n",
       "      <td>N</td>\n",
       "      <td>N</td>\n",
       "      <td>N</td>\n",
       "      <td>0.00</td>\n",
       "      <td>0.00</td>\n",
       "      <td>GA</td>\n",
       "    </tr>\n",
       "    <tr>\n",
       "      <th>3</th>\n",
       "      <td>BRXX-2</td>\n",
       "      <td>VIENNA</td>\n",
       "      <td>Inter-dealer broker</td>\n",
       "      <td>Intermediate Government</td>\n",
       "      <td>Y</td>\n",
       "      <td>N</td>\n",
       "      <td>N</td>\n",
       "      <td>0.00</td>\n",
       "      <td>30709.00</td>\n",
       "      <td>VA</td>\n",
       "    </tr>\n",
       "    <tr>\n",
       "      <th>4</th>\n",
       "      <td>BRXX-3</td>\n",
       "      <td>CHAGRIN FALLS</td>\n",
       "      <td>full-service broker</td>\n",
       "      <td>Target-Date 2050</td>\n",
       "      <td>Y</td>\n",
       "      <td>N</td>\n",
       "      <td>Y</td>\n",
       "      <td>0.00</td>\n",
       "      <td>0.00</td>\n",
       "      <td>OH</td>\n",
       "    </tr>\n",
       "  </tbody>\n",
       "</table>\n",
       "</div>"
      ],
      "text/plain": [
       "  broker_id           city          broker_type  \\\n",
       "0    BRXX-1     PLANTATION  Inter-dealer broker   \n",
       "1    BRXX-1       BRANFORD  Inter-dealer broker   \n",
       "2    BRXX-1      JONESBORO  Inter-dealer broker   \n",
       "3    BRXX-2         VIENNA  Inter-dealer broker   \n",
       "4    BRXX-3  CHAGRIN FALLS  full-service broker   \n",
       "\n",
       "                          fund_category email_opened webex_meet sales_call  \\\n",
       "0  Emerging-Markets Local-Currency Bond            N          N          N   \n",
       "1                             Utilities            N          N          N   \n",
       "2               Intermediate Government            N          N          N   \n",
       "3               Intermediate Government            Y          N          N   \n",
       "4                      Target-Date 2050            Y          N          Y   \n",
       "\n",
       "   firm_sales  global_sales state  \n",
       "0      174.62        174.62    FL  \n",
       "1        0.00          0.00    CT  \n",
       "2        0.00          0.00    GA  \n",
       "3        0.00      30709.00    VA  \n",
       "4        0.00          0.00    OH  "
      ]
     },
     "execution_count": 49,
     "metadata": {},
     "output_type": "execute_result"
    }
   ],
   "source": [
    "data.head()"
   ]
  },
  {
   "cell_type": "code",
   "execution_count": 50,
   "id": "adeb5e31",
   "metadata": {},
   "outputs": [
    {
     "data": {
      "text/plain": [
       "(753089, 10)"
      ]
     },
     "execution_count": 50,
     "metadata": {},
     "output_type": "execute_result"
    }
   ],
   "source": [
    "data.shape"
   ]
  },
  {
   "cell_type": "code",
   "execution_count": 51,
   "id": "50fac1db",
   "metadata": {},
   "outputs": [
    {
     "data": {
      "text/plain": [
       "1178"
      ]
     },
     "execution_count": 51,
     "metadata": {},
     "output_type": "execute_result"
    }
   ],
   "source": [
    "data['broker_id'].nunique()"
   ]
  },
  {
   "cell_type": "code",
   "execution_count": 56,
   "id": "60386d4a",
   "metadata": {},
   "outputs": [
    {
     "data": {
      "text/html": [
       "<div>\n",
       "<style scoped>\n",
       "    .dataframe tbody tr th:only-of-type {\n",
       "        vertical-align: middle;\n",
       "    }\n",
       "\n",
       "    .dataframe tbody tr th {\n",
       "        vertical-align: top;\n",
       "    }\n",
       "\n",
       "    .dataframe thead th {\n",
       "        text-align: right;\n",
       "    }\n",
       "</style>\n",
       "<table border=\"1\" class=\"dataframe\">\n",
       "  <thead>\n",
       "    <tr style=\"text-align: right;\">\n",
       "      <th></th>\n",
       "      <th>firm_sales</th>\n",
       "    </tr>\n",
       "    <tr>\n",
       "      <th>broker_id</th>\n",
       "      <th></th>\n",
       "    </tr>\n",
       "  </thead>\n",
       "  <tbody>\n",
       "    <tr>\n",
       "      <th>BRXX-298</th>\n",
       "      <td>5.748833e+08</td>\n",
       "    </tr>\n",
       "    <tr>\n",
       "      <th>BRXX-53</th>\n",
       "      <td>2.165282e+08</td>\n",
       "    </tr>\n",
       "    <tr>\n",
       "      <th>BRXX-154</th>\n",
       "      <td>2.155913e+08</td>\n",
       "    </tr>\n",
       "    <tr>\n",
       "      <th>BRXX-262</th>\n",
       "      <td>1.998988e+08</td>\n",
       "    </tr>\n",
       "    <tr>\n",
       "      <th>BRXX-3</th>\n",
       "      <td>1.454181e+08</td>\n",
       "    </tr>\n",
       "  </tbody>\n",
       "</table>\n",
       "</div>"
      ],
      "text/plain": [
       "             firm_sales\n",
       "broker_id              \n",
       "BRXX-298   5.748833e+08\n",
       "BRXX-53    2.165282e+08\n",
       "BRXX-154   2.155913e+08\n",
       "BRXX-262   1.998988e+08\n",
       "BRXX-3     1.454181e+08"
      ]
     },
     "execution_count": 56,
     "metadata": {},
     "output_type": "execute_result"
    }
   ],
   "source": [
    "data.groupby('broker_id')[['firm_sales']].sum().sort_values('firm_sales',ascending=False).head()"
   ]
  },
  {
   "cell_type": "code",
   "execution_count": 57,
   "id": "9042e718",
   "metadata": {},
   "outputs": [
    {
     "data": {
      "text/html": [
       "<div>\n",
       "<style scoped>\n",
       "    .dataframe tbody tr th:only-of-type {\n",
       "        vertical-align: middle;\n",
       "    }\n",
       "\n",
       "    .dataframe tbody tr th {\n",
       "        vertical-align: top;\n",
       "    }\n",
       "\n",
       "    .dataframe thead th {\n",
       "        text-align: right;\n",
       "    }\n",
       "</style>\n",
       "<table border=\"1\" class=\"dataframe\">\n",
       "  <thead>\n",
       "    <tr style=\"text-align: right;\">\n",
       "      <th></th>\n",
       "      <th>firm_sales</th>\n",
       "      <th>global_sales</th>\n",
       "    </tr>\n",
       "    <tr>\n",
       "      <th>broker_id</th>\n",
       "      <th></th>\n",
       "      <th></th>\n",
       "    </tr>\n",
       "  </thead>\n",
       "  <tbody>\n",
       "    <tr>\n",
       "      <th>BRXX-298</th>\n",
       "      <td>5.748833e+08</td>\n",
       "      <td>8.225108e+09</td>\n",
       "    </tr>\n",
       "    <tr>\n",
       "      <th>BRXX-53</th>\n",
       "      <td>2.165282e+08</td>\n",
       "      <td>8.368342e+09</td>\n",
       "    </tr>\n",
       "    <tr>\n",
       "      <th>BRXX-154</th>\n",
       "      <td>2.155913e+08</td>\n",
       "      <td>5.907926e+09</td>\n",
       "    </tr>\n",
       "    <tr>\n",
       "      <th>BRXX-262</th>\n",
       "      <td>1.998988e+08</td>\n",
       "      <td>4.671996e+09</td>\n",
       "    </tr>\n",
       "    <tr>\n",
       "      <th>BRXX-3</th>\n",
       "      <td>1.454181e+08</td>\n",
       "      <td>5.880297e+09</td>\n",
       "    </tr>\n",
       "  </tbody>\n",
       "</table>\n",
       "</div>"
      ],
      "text/plain": [
       "             firm_sales  global_sales\n",
       "broker_id                            \n",
       "BRXX-298   5.748833e+08  8.225108e+09\n",
       "BRXX-53    2.165282e+08  8.368342e+09\n",
       "BRXX-154   2.155913e+08  5.907926e+09\n",
       "BRXX-262   1.998988e+08  4.671996e+09\n",
       "BRXX-3     1.454181e+08  5.880297e+09"
      ]
     },
     "execution_count": 57,
     "metadata": {},
     "output_type": "execute_result"
    }
   ],
   "source": [
    "data.groupby('broker_id')[['firm_sales','global_sales']].sum().sort_values('firm_sales',ascending=False).head()"
   ]
  },
  {
   "cell_type": "code",
   "execution_count": 98,
   "id": "7089eb46",
   "metadata": {},
   "outputs": [],
   "source": [
    "a_df=data.groupby('broker_id')[['firm_sales','global_sales']].sum() #analysis df"
   ]
  },
  {
   "cell_type": "code",
   "execution_count": 99,
   "id": "7a70ef75",
   "metadata": {},
   "outputs": [
    {
     "data": {
      "text/html": [
       "<div>\n",
       "<style scoped>\n",
       "    .dataframe tbody tr th:only-of-type {\n",
       "        vertical-align: middle;\n",
       "    }\n",
       "\n",
       "    .dataframe tbody tr th {\n",
       "        vertical-align: top;\n",
       "    }\n",
       "\n",
       "    .dataframe thead th {\n",
       "        text-align: right;\n",
       "    }\n",
       "</style>\n",
       "<table border=\"1\" class=\"dataframe\">\n",
       "  <thead>\n",
       "    <tr style=\"text-align: right;\">\n",
       "      <th></th>\n",
       "      <th>firm_sales</th>\n",
       "      <th>global_sales</th>\n",
       "    </tr>\n",
       "    <tr>\n",
       "      <th>broker_id</th>\n",
       "      <th></th>\n",
       "      <th></th>\n",
       "    </tr>\n",
       "  </thead>\n",
       "  <tbody>\n",
       "    <tr>\n",
       "      <th>BRXX-1</th>\n",
       "      <td>11157673.73</td>\n",
       "      <td>1.066317e+08</td>\n",
       "    </tr>\n",
       "    <tr>\n",
       "      <th>BRXX-10</th>\n",
       "      <td>0.00</td>\n",
       "      <td>7.483650e+05</td>\n",
       "    </tr>\n",
       "    <tr>\n",
       "      <th>BRXX-100</th>\n",
       "      <td>267918.14</td>\n",
       "      <td>8.150361e+06</td>\n",
       "    </tr>\n",
       "    <tr>\n",
       "      <th>BRXX-1000</th>\n",
       "      <td>0.00</td>\n",
       "      <td>0.000000e+00</td>\n",
       "    </tr>\n",
       "    <tr>\n",
       "      <th>BRXX-1001</th>\n",
       "      <td>0.00</td>\n",
       "      <td>1.089745e+06</td>\n",
       "    </tr>\n",
       "  </tbody>\n",
       "</table>\n",
       "</div>"
      ],
      "text/plain": [
       "            firm_sales  global_sales\n",
       "broker_id                           \n",
       "BRXX-1     11157673.73  1.066317e+08\n",
       "BRXX-10           0.00  7.483650e+05\n",
       "BRXX-100     267918.14  8.150361e+06\n",
       "BRXX-1000         0.00  0.000000e+00\n",
       "BRXX-1001         0.00  1.089745e+06"
      ]
     },
     "execution_count": 99,
     "metadata": {},
     "output_type": "execute_result"
    }
   ],
   "source": [
    "a_df.head()"
   ]
  },
  {
   "cell_type": "code",
   "execution_count": 100,
   "id": "c301c6b3",
   "metadata": {},
   "outputs": [
    {
     "data": {
      "text/plain": [
       "(1178, 2)"
      ]
     },
     "execution_count": 100,
     "metadata": {},
     "output_type": "execute_result"
    }
   ],
   "source": [
    "a_df.shape"
   ]
  },
  {
   "cell_type": "code",
   "execution_count": 101,
   "id": "ea20381b",
   "metadata": {},
   "outputs": [],
   "source": [
    "#calculating loyality percentage of each broker"
   ]
  },
  {
   "cell_type": "code",
   "execution_count": 102,
   "id": "4a8bbeb9",
   "metadata": {},
   "outputs": [],
   "source": [
    "a_df['loyality_percent']=a_df['firm_sales']/a_df['global_sales']*100"
   ]
  },
  {
   "cell_type": "code",
   "execution_count": 103,
   "id": "e6a9623d",
   "metadata": {},
   "outputs": [
    {
     "data": {
      "text/html": [
       "<div>\n",
       "<style scoped>\n",
       "    .dataframe tbody tr th:only-of-type {\n",
       "        vertical-align: middle;\n",
       "    }\n",
       "\n",
       "    .dataframe tbody tr th {\n",
       "        vertical-align: top;\n",
       "    }\n",
       "\n",
       "    .dataframe thead th {\n",
       "        text-align: right;\n",
       "    }\n",
       "</style>\n",
       "<table border=\"1\" class=\"dataframe\">\n",
       "  <thead>\n",
       "    <tr style=\"text-align: right;\">\n",
       "      <th></th>\n",
       "      <th>firm_sales</th>\n",
       "      <th>global_sales</th>\n",
       "      <th>loyality_percent</th>\n",
       "    </tr>\n",
       "    <tr>\n",
       "      <th>broker_id</th>\n",
       "      <th></th>\n",
       "      <th></th>\n",
       "      <th></th>\n",
       "    </tr>\n",
       "  </thead>\n",
       "  <tbody>\n",
       "    <tr>\n",
       "      <th>BRXX-1</th>\n",
       "      <td>11157673.73</td>\n",
       "      <td>1.066317e+08</td>\n",
       "      <td>10.463750</td>\n",
       "    </tr>\n",
       "    <tr>\n",
       "      <th>BRXX-10</th>\n",
       "      <td>0.00</td>\n",
       "      <td>7.483650e+05</td>\n",
       "      <td>0.000000</td>\n",
       "    </tr>\n",
       "    <tr>\n",
       "      <th>BRXX-100</th>\n",
       "      <td>267918.14</td>\n",
       "      <td>8.150361e+06</td>\n",
       "      <td>3.287194</td>\n",
       "    </tr>\n",
       "    <tr>\n",
       "      <th>BRXX-1000</th>\n",
       "      <td>0.00</td>\n",
       "      <td>0.000000e+00</td>\n",
       "      <td>NaN</td>\n",
       "    </tr>\n",
       "    <tr>\n",
       "      <th>BRXX-1001</th>\n",
       "      <td>0.00</td>\n",
       "      <td>1.089745e+06</td>\n",
       "      <td>0.000000</td>\n",
       "    </tr>\n",
       "  </tbody>\n",
       "</table>\n",
       "</div>"
      ],
      "text/plain": [
       "            firm_sales  global_sales  loyality_percent\n",
       "broker_id                                             \n",
       "BRXX-1     11157673.73  1.066317e+08         10.463750\n",
       "BRXX-10           0.00  7.483650e+05          0.000000\n",
       "BRXX-100     267918.14  8.150361e+06          3.287194\n",
       "BRXX-1000         0.00  0.000000e+00               NaN\n",
       "BRXX-1001         0.00  1.089745e+06          0.000000"
      ]
     },
     "execution_count": 103,
     "metadata": {},
     "output_type": "execute_result"
    }
   ],
   "source": [
    "a_df.head()"
   ]
  },
  {
   "cell_type": "code",
   "execution_count": 104,
   "id": "d921fb4c",
   "metadata": {},
   "outputs": [
    {
     "data": {
      "text/html": [
       "<div>\n",
       "<style scoped>\n",
       "    .dataframe tbody tr th:only-of-type {\n",
       "        vertical-align: middle;\n",
       "    }\n",
       "\n",
       "    .dataframe tbody tr th {\n",
       "        vertical-align: top;\n",
       "    }\n",
       "\n",
       "    .dataframe thead th {\n",
       "        text-align: right;\n",
       "    }\n",
       "</style>\n",
       "<table border=\"1\" class=\"dataframe\">\n",
       "  <thead>\n",
       "    <tr style=\"text-align: right;\">\n",
       "      <th></th>\n",
       "      <th>firm_sales</th>\n",
       "      <th>global_sales</th>\n",
       "      <th>loyality_percent</th>\n",
       "    </tr>\n",
       "    <tr>\n",
       "      <th>broker_id</th>\n",
       "      <th></th>\n",
       "      <th></th>\n",
       "      <th></th>\n",
       "    </tr>\n",
       "  </thead>\n",
       "  <tbody>\n",
       "    <tr>\n",
       "      <th>BRXX-1036</th>\n",
       "      <td>245.76</td>\n",
       "      <td>245.76</td>\n",
       "      <td>100.000000</td>\n",
       "    </tr>\n",
       "    <tr>\n",
       "      <th>BRXX-1005</th>\n",
       "      <td>77.23</td>\n",
       "      <td>77.23</td>\n",
       "      <td>100.000000</td>\n",
       "    </tr>\n",
       "    <tr>\n",
       "      <th>BRXX-1019</th>\n",
       "      <td>5571.97</td>\n",
       "      <td>5571.97</td>\n",
       "      <td>100.000000</td>\n",
       "    </tr>\n",
       "    <tr>\n",
       "      <th>BRXX-498</th>\n",
       "      <td>13042.03</td>\n",
       "      <td>13042.03</td>\n",
       "      <td>100.000000</td>\n",
       "    </tr>\n",
       "    <tr>\n",
       "      <th>BRXX-710</th>\n",
       "      <td>27438.30</td>\n",
       "      <td>27627.97</td>\n",
       "      <td>99.313486</td>\n",
       "    </tr>\n",
       "  </tbody>\n",
       "</table>\n",
       "</div>"
      ],
      "text/plain": [
       "           firm_sales  global_sales  loyality_percent\n",
       "broker_id                                            \n",
       "BRXX-1036      245.76        245.76        100.000000\n",
       "BRXX-1005       77.23         77.23        100.000000\n",
       "BRXX-1019     5571.97       5571.97        100.000000\n",
       "BRXX-498     13042.03      13042.03        100.000000\n",
       "BRXX-710     27438.30      27627.97         99.313486"
      ]
     },
     "execution_count": 104,
     "metadata": {},
     "output_type": "execute_result"
    }
   ],
   "source": [
    "a_df.sort_values('loyality_percent',ascending=False).head()"
   ]
  },
  {
   "cell_type": "code",
   "execution_count": 105,
   "id": "6cb7c2d9",
   "metadata": {},
   "outputs": [],
   "source": [
    "#function to check loyality"
   ]
  },
  {
   "cell_type": "code",
   "execution_count": 106,
   "id": "2b6a51c2",
   "metadata": {},
   "outputs": [],
   "source": [
    "def loyality_check(loyality_percent):\n",
    "    if loyality_percent==100:\n",
    "        return \"Loyal Brokers\"\n",
    "    elif loyality_percent>=90:\n",
    "        return \"Steadfast brokers\"\n",
    "    elif loyality_percent==0:\n",
    "        return \"Not commited broker\"\n",
    "    elif loyality_percent<50:\n",
    "        return \"less Inclined brokers\"\n",
    "    elif loyality_percent<90:\n",
    "        return \"Reasonably Devoted Brokers\"\n",
    "    else:\n",
    "        return \"Stagnant Brokers\""
   ]
  },
  {
   "cell_type": "code",
   "execution_count": 107,
   "id": "cb3ebc09",
   "metadata": {},
   "outputs": [
    {
     "data": {
      "text/plain": [
       "'Loyal Brokers'"
      ]
     },
     "execution_count": 107,
     "metadata": {},
     "output_type": "execute_result"
    }
   ],
   "source": [
    "loyality_check(100)"
   ]
  },
  {
   "cell_type": "code",
   "execution_count": 108,
   "id": "edb46f79",
   "metadata": {},
   "outputs": [],
   "source": [
    "a_df['loyality_category']=a_df['loyality_percent'].apply(loyality_check)"
   ]
  },
  {
   "cell_type": "code",
   "execution_count": 109,
   "id": "d2800cec",
   "metadata": {},
   "outputs": [
    {
     "data": {
      "text/html": [
       "<div>\n",
       "<style scoped>\n",
       "    .dataframe tbody tr th:only-of-type {\n",
       "        vertical-align: middle;\n",
       "    }\n",
       "\n",
       "    .dataframe tbody tr th {\n",
       "        vertical-align: top;\n",
       "    }\n",
       "\n",
       "    .dataframe thead th {\n",
       "        text-align: right;\n",
       "    }\n",
       "</style>\n",
       "<table border=\"1\" class=\"dataframe\">\n",
       "  <thead>\n",
       "    <tr style=\"text-align: right;\">\n",
       "      <th></th>\n",
       "      <th>firm_sales</th>\n",
       "      <th>global_sales</th>\n",
       "      <th>loyality_percent</th>\n",
       "      <th>loyality_category</th>\n",
       "    </tr>\n",
       "    <tr>\n",
       "      <th>broker_id</th>\n",
       "      <th></th>\n",
       "      <th></th>\n",
       "      <th></th>\n",
       "      <th></th>\n",
       "    </tr>\n",
       "  </thead>\n",
       "  <tbody>\n",
       "    <tr>\n",
       "      <th>BRXX-1</th>\n",
       "      <td>11157673.73</td>\n",
       "      <td>1.066317e+08</td>\n",
       "      <td>10.463750</td>\n",
       "      <td>less Inclined brokers</td>\n",
       "    </tr>\n",
       "    <tr>\n",
       "      <th>BRXX-10</th>\n",
       "      <td>0.00</td>\n",
       "      <td>7.483650e+05</td>\n",
       "      <td>0.000000</td>\n",
       "      <td>Not commited broker</td>\n",
       "    </tr>\n",
       "    <tr>\n",
       "      <th>BRXX-100</th>\n",
       "      <td>267918.14</td>\n",
       "      <td>8.150361e+06</td>\n",
       "      <td>3.287194</td>\n",
       "      <td>less Inclined brokers</td>\n",
       "    </tr>\n",
       "    <tr>\n",
       "      <th>BRXX-1000</th>\n",
       "      <td>0.00</td>\n",
       "      <td>0.000000e+00</td>\n",
       "      <td>NaN</td>\n",
       "      <td>Stagnant Brokers</td>\n",
       "    </tr>\n",
       "    <tr>\n",
       "      <th>BRXX-1001</th>\n",
       "      <td>0.00</td>\n",
       "      <td>1.089745e+06</td>\n",
       "      <td>0.000000</td>\n",
       "      <td>Not commited broker</td>\n",
       "    </tr>\n",
       "    <tr>\n",
       "      <th>BRXX-1002</th>\n",
       "      <td>29387.17</td>\n",
       "      <td>9.652822e+04</td>\n",
       "      <td>30.444123</td>\n",
       "      <td>less Inclined brokers</td>\n",
       "    </tr>\n",
       "    <tr>\n",
       "      <th>BRXX-1003</th>\n",
       "      <td>0.00</td>\n",
       "      <td>4.345198e+04</td>\n",
       "      <td>0.000000</td>\n",
       "      <td>Not commited broker</td>\n",
       "    </tr>\n",
       "    <tr>\n",
       "      <th>BRXX-1004</th>\n",
       "      <td>0.00</td>\n",
       "      <td>4.814850e+04</td>\n",
       "      <td>0.000000</td>\n",
       "      <td>Not commited broker</td>\n",
       "    </tr>\n",
       "    <tr>\n",
       "      <th>BRXX-1005</th>\n",
       "      <td>77.23</td>\n",
       "      <td>7.723000e+01</td>\n",
       "      <td>100.000000</td>\n",
       "      <td>Loyal Brokers</td>\n",
       "    </tr>\n",
       "    <tr>\n",
       "      <th>BRXX-1006</th>\n",
       "      <td>0.00</td>\n",
       "      <td>2.995000e+04</td>\n",
       "      <td>0.000000</td>\n",
       "      <td>Not commited broker</td>\n",
       "    </tr>\n",
       "  </tbody>\n",
       "</table>\n",
       "</div>"
      ],
      "text/plain": [
       "            firm_sales  global_sales  loyality_percent      loyality_category\n",
       "broker_id                                                                    \n",
       "BRXX-1     11157673.73  1.066317e+08         10.463750  less Inclined brokers\n",
       "BRXX-10           0.00  7.483650e+05          0.000000    Not commited broker\n",
       "BRXX-100     267918.14  8.150361e+06          3.287194  less Inclined brokers\n",
       "BRXX-1000         0.00  0.000000e+00               NaN       Stagnant Brokers\n",
       "BRXX-1001         0.00  1.089745e+06          0.000000    Not commited broker\n",
       "BRXX-1002     29387.17  9.652822e+04         30.444123  less Inclined brokers\n",
       "BRXX-1003         0.00  4.345198e+04          0.000000    Not commited broker\n",
       "BRXX-1004         0.00  4.814850e+04          0.000000    Not commited broker\n",
       "BRXX-1005        77.23  7.723000e+01        100.000000          Loyal Brokers\n",
       "BRXX-1006         0.00  2.995000e+04          0.000000    Not commited broker"
      ]
     },
     "execution_count": 109,
     "metadata": {},
     "output_type": "execute_result"
    }
   ],
   "source": [
    "a_df.head(10)"
   ]
  },
  {
   "cell_type": "code",
   "execution_count": 110,
   "id": "04620335",
   "metadata": {},
   "outputs": [],
   "source": [
    "a_df['Broker_id']=a_df.index"
   ]
  },
  {
   "cell_type": "code",
   "execution_count": 111,
   "id": "33bd088e",
   "metadata": {},
   "outputs": [
    {
     "data": {
      "text/html": [
       "<div>\n",
       "<style scoped>\n",
       "    .dataframe tbody tr th:only-of-type {\n",
       "        vertical-align: middle;\n",
       "    }\n",
       "\n",
       "    .dataframe tbody tr th {\n",
       "        vertical-align: top;\n",
       "    }\n",
       "\n",
       "    .dataframe thead th {\n",
       "        text-align: right;\n",
       "    }\n",
       "</style>\n",
       "<table border=\"1\" class=\"dataframe\">\n",
       "  <thead>\n",
       "    <tr style=\"text-align: right;\">\n",
       "      <th></th>\n",
       "      <th>firm_sales</th>\n",
       "      <th>global_sales</th>\n",
       "      <th>loyality_percent</th>\n",
       "      <th>loyality_category</th>\n",
       "      <th>Broker_id</th>\n",
       "    </tr>\n",
       "    <tr>\n",
       "      <th>broker_id</th>\n",
       "      <th></th>\n",
       "      <th></th>\n",
       "      <th></th>\n",
       "      <th></th>\n",
       "      <th></th>\n",
       "    </tr>\n",
       "  </thead>\n",
       "  <tbody>\n",
       "    <tr>\n",
       "      <th>BRXX-1</th>\n",
       "      <td>11157673.73</td>\n",
       "      <td>1.066317e+08</td>\n",
       "      <td>10.463750</td>\n",
       "      <td>less Inclined brokers</td>\n",
       "      <td>BRXX-1</td>\n",
       "    </tr>\n",
       "    <tr>\n",
       "      <th>BRXX-10</th>\n",
       "      <td>0.00</td>\n",
       "      <td>7.483650e+05</td>\n",
       "      <td>0.000000</td>\n",
       "      <td>Not commited broker</td>\n",
       "      <td>BRXX-10</td>\n",
       "    </tr>\n",
       "    <tr>\n",
       "      <th>BRXX-100</th>\n",
       "      <td>267918.14</td>\n",
       "      <td>8.150361e+06</td>\n",
       "      <td>3.287194</td>\n",
       "      <td>less Inclined brokers</td>\n",
       "      <td>BRXX-100</td>\n",
       "    </tr>\n",
       "    <tr>\n",
       "      <th>BRXX-1000</th>\n",
       "      <td>0.00</td>\n",
       "      <td>0.000000e+00</td>\n",
       "      <td>NaN</td>\n",
       "      <td>Stagnant Brokers</td>\n",
       "      <td>BRXX-1000</td>\n",
       "    </tr>\n",
       "    <tr>\n",
       "      <th>BRXX-1001</th>\n",
       "      <td>0.00</td>\n",
       "      <td>1.089745e+06</td>\n",
       "      <td>0.000000</td>\n",
       "      <td>Not commited broker</td>\n",
       "      <td>BRXX-1001</td>\n",
       "    </tr>\n",
       "  </tbody>\n",
       "</table>\n",
       "</div>"
      ],
      "text/plain": [
       "            firm_sales  global_sales  loyality_percent      loyality_category  \\\n",
       "broker_id                                                                       \n",
       "BRXX-1     11157673.73  1.066317e+08         10.463750  less Inclined brokers   \n",
       "BRXX-10           0.00  7.483650e+05          0.000000    Not commited broker   \n",
       "BRXX-100     267918.14  8.150361e+06          3.287194  less Inclined brokers   \n",
       "BRXX-1000         0.00  0.000000e+00               NaN       Stagnant Brokers   \n",
       "BRXX-1001         0.00  1.089745e+06          0.000000    Not commited broker   \n",
       "\n",
       "           Broker_id  \n",
       "broker_id             \n",
       "BRXX-1        BRXX-1  \n",
       "BRXX-10      BRXX-10  \n",
       "BRXX-100    BRXX-100  \n",
       "BRXX-1000  BRXX-1000  \n",
       "BRXX-1001  BRXX-1001  "
      ]
     },
     "execution_count": 111,
     "metadata": {},
     "output_type": "execute_result"
    }
   ],
   "source": [
    "a_df.head()"
   ]
  },
  {
   "cell_type": "code",
   "execution_count": 112,
   "id": "dcc9d01e",
   "metadata": {},
   "outputs": [],
   "source": [
    "a_df.reset_index(drop=True,inplace=True)"
   ]
  },
  {
   "cell_type": "code",
   "execution_count": 113,
   "id": "98856c78",
   "metadata": {},
   "outputs": [
    {
     "data": {
      "text/html": [
       "<div>\n",
       "<style scoped>\n",
       "    .dataframe tbody tr th:only-of-type {\n",
       "        vertical-align: middle;\n",
       "    }\n",
       "\n",
       "    .dataframe tbody tr th {\n",
       "        vertical-align: top;\n",
       "    }\n",
       "\n",
       "    .dataframe thead th {\n",
       "        text-align: right;\n",
       "    }\n",
       "</style>\n",
       "<table border=\"1\" class=\"dataframe\">\n",
       "  <thead>\n",
       "    <tr style=\"text-align: right;\">\n",
       "      <th></th>\n",
       "      <th>firm_sales</th>\n",
       "      <th>global_sales</th>\n",
       "      <th>loyality_percent</th>\n",
       "      <th>loyality_category</th>\n",
       "      <th>Broker_id</th>\n",
       "    </tr>\n",
       "  </thead>\n",
       "  <tbody>\n",
       "    <tr>\n",
       "      <th>0</th>\n",
       "      <td>11157673.73</td>\n",
       "      <td>1.066317e+08</td>\n",
       "      <td>10.463750</td>\n",
       "      <td>less Inclined brokers</td>\n",
       "      <td>BRXX-1</td>\n",
       "    </tr>\n",
       "    <tr>\n",
       "      <th>1</th>\n",
       "      <td>0.00</td>\n",
       "      <td>7.483650e+05</td>\n",
       "      <td>0.000000</td>\n",
       "      <td>Not commited broker</td>\n",
       "      <td>BRXX-10</td>\n",
       "    </tr>\n",
       "    <tr>\n",
       "      <th>2</th>\n",
       "      <td>267918.14</td>\n",
       "      <td>8.150361e+06</td>\n",
       "      <td>3.287194</td>\n",
       "      <td>less Inclined brokers</td>\n",
       "      <td>BRXX-100</td>\n",
       "    </tr>\n",
       "    <tr>\n",
       "      <th>3</th>\n",
       "      <td>0.00</td>\n",
       "      <td>0.000000e+00</td>\n",
       "      <td>NaN</td>\n",
       "      <td>Stagnant Brokers</td>\n",
       "      <td>BRXX-1000</td>\n",
       "    </tr>\n",
       "    <tr>\n",
       "      <th>4</th>\n",
       "      <td>0.00</td>\n",
       "      <td>1.089745e+06</td>\n",
       "      <td>0.000000</td>\n",
       "      <td>Not commited broker</td>\n",
       "      <td>BRXX-1001</td>\n",
       "    </tr>\n",
       "    <tr>\n",
       "      <th>5</th>\n",
       "      <td>29387.17</td>\n",
       "      <td>9.652822e+04</td>\n",
       "      <td>30.444123</td>\n",
       "      <td>less Inclined brokers</td>\n",
       "      <td>BRXX-1002</td>\n",
       "    </tr>\n",
       "    <tr>\n",
       "      <th>6</th>\n",
       "      <td>0.00</td>\n",
       "      <td>4.345198e+04</td>\n",
       "      <td>0.000000</td>\n",
       "      <td>Not commited broker</td>\n",
       "      <td>BRXX-1003</td>\n",
       "    </tr>\n",
       "    <tr>\n",
       "      <th>7</th>\n",
       "      <td>0.00</td>\n",
       "      <td>4.814850e+04</td>\n",
       "      <td>0.000000</td>\n",
       "      <td>Not commited broker</td>\n",
       "      <td>BRXX-1004</td>\n",
       "    </tr>\n",
       "    <tr>\n",
       "      <th>8</th>\n",
       "      <td>77.23</td>\n",
       "      <td>7.723000e+01</td>\n",
       "      <td>100.000000</td>\n",
       "      <td>Loyal Brokers</td>\n",
       "      <td>BRXX-1005</td>\n",
       "    </tr>\n",
       "    <tr>\n",
       "      <th>9</th>\n",
       "      <td>0.00</td>\n",
       "      <td>2.995000e+04</td>\n",
       "      <td>0.000000</td>\n",
       "      <td>Not commited broker</td>\n",
       "      <td>BRXX-1006</td>\n",
       "    </tr>\n",
       "  </tbody>\n",
       "</table>\n",
       "</div>"
      ],
      "text/plain": [
       "    firm_sales  global_sales  loyality_percent      loyality_category  \\\n",
       "0  11157673.73  1.066317e+08         10.463750  less Inclined brokers   \n",
       "1         0.00  7.483650e+05          0.000000    Not commited broker   \n",
       "2    267918.14  8.150361e+06          3.287194  less Inclined brokers   \n",
       "3         0.00  0.000000e+00               NaN       Stagnant Brokers   \n",
       "4         0.00  1.089745e+06          0.000000    Not commited broker   \n",
       "5     29387.17  9.652822e+04         30.444123  less Inclined brokers   \n",
       "6         0.00  4.345198e+04          0.000000    Not commited broker   \n",
       "7         0.00  4.814850e+04          0.000000    Not commited broker   \n",
       "8        77.23  7.723000e+01        100.000000          Loyal Brokers   \n",
       "9         0.00  2.995000e+04          0.000000    Not commited broker   \n",
       "\n",
       "   Broker_id  \n",
       "0     BRXX-1  \n",
       "1    BRXX-10  \n",
       "2   BRXX-100  \n",
       "3  BRXX-1000  \n",
       "4  BRXX-1001  \n",
       "5  BRXX-1002  \n",
       "6  BRXX-1003  \n",
       "7  BRXX-1004  \n",
       "8  BRXX-1005  \n",
       "9  BRXX-1006  "
      ]
     },
     "execution_count": 113,
     "metadata": {},
     "output_type": "execute_result"
    }
   ],
   "source": [
    "a_df.head(10)"
   ]
  },
  {
   "cell_type": "code",
   "execution_count": 115,
   "id": "c8209403",
   "metadata": {},
   "outputs": [
    {
     "data": {
      "text/html": [
       "<div>\n",
       "<style scoped>\n",
       "    .dataframe tbody tr th:only-of-type {\n",
       "        vertical-align: middle;\n",
       "    }\n",
       "\n",
       "    .dataframe tbody tr th {\n",
       "        vertical-align: top;\n",
       "    }\n",
       "\n",
       "    .dataframe thead th {\n",
       "        text-align: right;\n",
       "    }\n",
       "</style>\n",
       "<table border=\"1\" class=\"dataframe\">\n",
       "  <thead>\n",
       "    <tr style=\"text-align: right;\">\n",
       "      <th></th>\n",
       "      <th>Broker_id</th>\n",
       "    </tr>\n",
       "    <tr>\n",
       "      <th>loyality_category</th>\n",
       "      <th></th>\n",
       "    </tr>\n",
       "  </thead>\n",
       "  <tbody>\n",
       "    <tr>\n",
       "      <th>Not commited broker</th>\n",
       "      <td>686</td>\n",
       "    </tr>\n",
       "    <tr>\n",
       "      <th>less Inclined brokers</th>\n",
       "      <td>310</td>\n",
       "    </tr>\n",
       "    <tr>\n",
       "      <th>Stagnant Brokers</th>\n",
       "      <td>166</td>\n",
       "    </tr>\n",
       "    <tr>\n",
       "      <th>Reasonably Devoted Brokers</th>\n",
       "      <td>7</td>\n",
       "    </tr>\n",
       "    <tr>\n",
       "      <th>Steadfast brokers</th>\n",
       "      <td>5</td>\n",
       "    </tr>\n",
       "    <tr>\n",
       "      <th>Loyal Brokers</th>\n",
       "      <td>4</td>\n",
       "    </tr>\n",
       "  </tbody>\n",
       "</table>\n",
       "</div>"
      ],
      "text/plain": [
       "                            Broker_id\n",
       "loyality_category                    \n",
       "Not commited broker               686\n",
       "less Inclined brokers             310\n",
       "Stagnant Brokers                  166\n",
       "Reasonably Devoted Brokers          7\n",
       "Steadfast brokers                   5\n",
       "Loyal Brokers                       4"
      ]
     },
     "execution_count": 115,
     "metadata": {},
     "output_type": "execute_result"
    }
   ],
   "source": [
    "a_df.groupby('loyality_category')[['Broker_id']].count().sort_values('Broker_id',ascending=False)"
   ]
  },
  {
   "cell_type": "code",
   "execution_count": 116,
   "id": "15eaf487",
   "metadata": {},
   "outputs": [],
   "source": [
    "#joining the loyality category to the main table"
   ]
  },
  {
   "cell_type": "code",
   "execution_count": null,
   "id": "6503b0fc",
   "metadata": {},
   "outputs": [],
   "source": []
  },
  {
   "cell_type": "code",
   "execution_count": 117,
   "id": "938c84ac",
   "metadata": {},
   "outputs": [
    {
     "data": {
      "text/plain": [
       "['broker_id',\n",
       " 'city',\n",
       " 'broker_type',\n",
       " 'fund_category',\n",
       " 'email_opened',\n",
       " 'webex_meet',\n",
       " 'sales_call',\n",
       " 'firm_sales',\n",
       " 'global_sales',\n",
       " 'state']"
      ]
     },
     "execution_count": 117,
     "metadata": {},
     "output_type": "execute_result"
    }
   ],
   "source": [
    "list(data.columns)"
   ]
  },
  {
   "cell_type": "code",
   "execution_count": 118,
   "id": "4d8e8074",
   "metadata": {},
   "outputs": [
    {
     "data": {
      "text/plain": [
       "['firm_sales',\n",
       " 'global_sales',\n",
       " 'loyality_percent',\n",
       " 'loyality_category',\n",
       " 'Broker_id']"
      ]
     },
     "execution_count": 118,
     "metadata": {},
     "output_type": "execute_result"
    }
   ],
   "source": [
    "list(a_df.columns)"
   ]
  },
  {
   "cell_type": "code",
   "execution_count": 124,
   "id": "d2c33798",
   "metadata": {},
   "outputs": [],
   "source": [
    "final_df= data.merge(a_df,left_on='broker_id',right_on='Broker_id',how='inner')[['broker_id',\n",
    " 'city',\n",
    " 'broker_type',\n",
    " 'fund_category',\n",
    " 'email_opened',\n",
    " 'webex_meet',\n",
    " 'sales_call',\n",
    " 'firm_sales_x',\n",
    " 'global_sales_x',\n",
    " 'state','loyality_percent','loyality_category']]"
   ]
  },
  {
   "cell_type": "code",
   "execution_count": 125,
   "id": "c13094bb",
   "metadata": {},
   "outputs": [
    {
     "data": {
      "text/html": [
       "<div>\n",
       "<style scoped>\n",
       "    .dataframe tbody tr th:only-of-type {\n",
       "        vertical-align: middle;\n",
       "    }\n",
       "\n",
       "    .dataframe tbody tr th {\n",
       "        vertical-align: top;\n",
       "    }\n",
       "\n",
       "    .dataframe thead th {\n",
       "        text-align: right;\n",
       "    }\n",
       "</style>\n",
       "<table border=\"1\" class=\"dataframe\">\n",
       "  <thead>\n",
       "    <tr style=\"text-align: right;\">\n",
       "      <th></th>\n",
       "      <th>broker_id</th>\n",
       "      <th>city</th>\n",
       "      <th>broker_type</th>\n",
       "      <th>fund_category</th>\n",
       "      <th>email_opened</th>\n",
       "      <th>webex_meet</th>\n",
       "      <th>sales_call</th>\n",
       "      <th>firm_sales_x</th>\n",
       "      <th>global_sales_x</th>\n",
       "      <th>state</th>\n",
       "      <th>loyality_percent</th>\n",
       "      <th>loyality_category</th>\n",
       "    </tr>\n",
       "  </thead>\n",
       "  <tbody>\n",
       "    <tr>\n",
       "      <th>0</th>\n",
       "      <td>BRXX-1</td>\n",
       "      <td>PLANTATION</td>\n",
       "      <td>Inter-dealer broker</td>\n",
       "      <td>Emerging-Markets Local-Currency Bond</td>\n",
       "      <td>N</td>\n",
       "      <td>N</td>\n",
       "      <td>N</td>\n",
       "      <td>174.62</td>\n",
       "      <td>174.62</td>\n",
       "      <td>FL</td>\n",
       "      <td>10.46375</td>\n",
       "      <td>less Inclined brokers</td>\n",
       "    </tr>\n",
       "    <tr>\n",
       "      <th>1</th>\n",
       "      <td>BRXX-1</td>\n",
       "      <td>BRANFORD</td>\n",
       "      <td>Inter-dealer broker</td>\n",
       "      <td>Utilities</td>\n",
       "      <td>N</td>\n",
       "      <td>N</td>\n",
       "      <td>N</td>\n",
       "      <td>0.00</td>\n",
       "      <td>0.00</td>\n",
       "      <td>CT</td>\n",
       "      <td>10.46375</td>\n",
       "      <td>less Inclined brokers</td>\n",
       "    </tr>\n",
       "    <tr>\n",
       "      <th>2</th>\n",
       "      <td>BRXX-1</td>\n",
       "      <td>JONESBORO</td>\n",
       "      <td>Inter-dealer broker</td>\n",
       "      <td>Intermediate Government</td>\n",
       "      <td>N</td>\n",
       "      <td>N</td>\n",
       "      <td>N</td>\n",
       "      <td>0.00</td>\n",
       "      <td>0.00</td>\n",
       "      <td>GA</td>\n",
       "      <td>10.46375</td>\n",
       "      <td>less Inclined brokers</td>\n",
       "    </tr>\n",
       "    <tr>\n",
       "      <th>3</th>\n",
       "      <td>BRXX-1</td>\n",
       "      <td>OWINGS MILLS</td>\n",
       "      <td>Inter-dealer broker</td>\n",
       "      <td>World Large Stock</td>\n",
       "      <td>N</td>\n",
       "      <td>N</td>\n",
       "      <td>N</td>\n",
       "      <td>0.00</td>\n",
       "      <td>4807.68</td>\n",
       "      <td>MD</td>\n",
       "      <td>10.46375</td>\n",
       "      <td>less Inclined brokers</td>\n",
       "    </tr>\n",
       "    <tr>\n",
       "      <th>4</th>\n",
       "      <td>BRXX-1</td>\n",
       "      <td>AUSTIN</td>\n",
       "      <td>Inter-dealer broker</td>\n",
       "      <td>Intermediate-Term Bond</td>\n",
       "      <td>N</td>\n",
       "      <td>N</td>\n",
       "      <td>N</td>\n",
       "      <td>0.00</td>\n",
       "      <td>600.00</td>\n",
       "      <td>TX</td>\n",
       "      <td>10.46375</td>\n",
       "      <td>less Inclined brokers</td>\n",
       "    </tr>\n",
       "  </tbody>\n",
       "</table>\n",
       "</div>"
      ],
      "text/plain": [
       "  broker_id          city          broker_type  \\\n",
       "0    BRXX-1    PLANTATION  Inter-dealer broker   \n",
       "1    BRXX-1      BRANFORD  Inter-dealer broker   \n",
       "2    BRXX-1     JONESBORO  Inter-dealer broker   \n",
       "3    BRXX-1  OWINGS MILLS  Inter-dealer broker   \n",
       "4    BRXX-1        AUSTIN  Inter-dealer broker   \n",
       "\n",
       "                          fund_category email_opened webex_meet sales_call  \\\n",
       "0  Emerging-Markets Local-Currency Bond            N          N          N   \n",
       "1                             Utilities            N          N          N   \n",
       "2               Intermediate Government            N          N          N   \n",
       "3                     World Large Stock            N          N          N   \n",
       "4                Intermediate-Term Bond            N          N          N   \n",
       "\n",
       "   firm_sales_x  global_sales_x state  loyality_percent      loyality_category  \n",
       "0        174.62          174.62    FL          10.46375  less Inclined brokers  \n",
       "1          0.00            0.00    CT          10.46375  less Inclined brokers  \n",
       "2          0.00            0.00    GA          10.46375  less Inclined brokers  \n",
       "3          0.00         4807.68    MD          10.46375  less Inclined brokers  \n",
       "4          0.00          600.00    TX          10.46375  less Inclined brokers  "
      ]
     },
     "execution_count": 125,
     "metadata": {},
     "output_type": "execute_result"
    }
   ],
   "source": [
    "final_df.head()"
   ]
  },
  {
   "cell_type": "code",
   "execution_count": 133,
   "id": "65f92a26",
   "metadata": {},
   "outputs": [
    {
     "data": {
      "text/html": [
       "<div>\n",
       "<style scoped>\n",
       "    .dataframe tbody tr th:only-of-type {\n",
       "        vertical-align: middle;\n",
       "    }\n",
       "\n",
       "    .dataframe tbody tr th {\n",
       "        vertical-align: top;\n",
       "    }\n",
       "\n",
       "    .dataframe thead th {\n",
       "        text-align: right;\n",
       "    }\n",
       "</style>\n",
       "<table border=\"1\" class=\"dataframe\">\n",
       "  <thead>\n",
       "    <tr style=\"text-align: right;\">\n",
       "      <th></th>\n",
       "      <th></th>\n",
       "      <th>broker_id</th>\n",
       "    </tr>\n",
       "    <tr>\n",
       "      <th>broker_type</th>\n",
       "      <th>loyality_category</th>\n",
       "      <th></th>\n",
       "    </tr>\n",
       "  </thead>\n",
       "  <tbody>\n",
       "    <tr>\n",
       "      <th rowspan=\"6\" valign=\"top\">Inter-dealer broker</th>\n",
       "      <th>Loyal Brokers</th>\n",
       "      <td>4</td>\n",
       "    </tr>\n",
       "    <tr>\n",
       "      <th>Not commited broker</th>\n",
       "      <td>685</td>\n",
       "    </tr>\n",
       "    <tr>\n",
       "      <th>Reasonably Devoted Brokers</th>\n",
       "      <td>7</td>\n",
       "    </tr>\n",
       "    <tr>\n",
       "      <th>Stagnant Brokers</th>\n",
       "      <td>166</td>\n",
       "    </tr>\n",
       "    <tr>\n",
       "      <th>Steadfast brokers</th>\n",
       "      <td>5</td>\n",
       "    </tr>\n",
       "    <tr>\n",
       "      <th>less Inclined brokers</th>\n",
       "      <td>306</td>\n",
       "    </tr>\n",
       "    <tr>\n",
       "      <th rowspan=\"2\" valign=\"top\">full-service broker</th>\n",
       "      <th>Not commited broker</th>\n",
       "      <td>1</td>\n",
       "    </tr>\n",
       "    <tr>\n",
       "      <th>less Inclined brokers</th>\n",
       "      <td>4</td>\n",
       "    </tr>\n",
       "  </tbody>\n",
       "</table>\n",
       "</div>"
      ],
      "text/plain": [
       "                                                broker_id\n",
       "broker_type         loyality_category                    \n",
       "Inter-dealer broker Loyal Brokers                       4\n",
       "                    Not commited broker               685\n",
       "                    Reasonably Devoted Brokers          7\n",
       "                    Stagnant Brokers                  166\n",
       "                    Steadfast brokers                   5\n",
       "                    less Inclined brokers             306\n",
       "full-service broker Not commited broker                 1\n",
       "                    less Inclined brokers               4"
      ]
     },
     "execution_count": 133,
     "metadata": {},
     "output_type": "execute_result"
    }
   ],
   "source": [
    "final_df.groupby(['broker_type','loyality_category'])[['broker_id']].nunique()"
   ]
  },
  {
   "cell_type": "code",
   "execution_count": 134,
   "id": "0e9b9ba8",
   "metadata": {},
   "outputs": [
    {
     "data": {
      "text/html": [
       "<div>\n",
       "<style scoped>\n",
       "    .dataframe tbody tr th:only-of-type {\n",
       "        vertical-align: middle;\n",
       "    }\n",
       "\n",
       "    .dataframe tbody tr th {\n",
       "        vertical-align: top;\n",
       "    }\n",
       "\n",
       "    .dataframe thead th {\n",
       "        text-align: right;\n",
       "    }\n",
       "</style>\n",
       "<table border=\"1\" class=\"dataframe\">\n",
       "  <thead>\n",
       "    <tr style=\"text-align: right;\">\n",
       "      <th></th>\n",
       "      <th></th>\n",
       "      <th>broker_id</th>\n",
       "    </tr>\n",
       "    <tr>\n",
       "      <th>email_opened</th>\n",
       "      <th>loyality_category</th>\n",
       "      <th></th>\n",
       "    </tr>\n",
       "  </thead>\n",
       "  <tbody>\n",
       "    <tr>\n",
       "      <th rowspan=\"6\" valign=\"top\">N</th>\n",
       "      <th>Loyal Brokers</th>\n",
       "      <td>3</td>\n",
       "    </tr>\n",
       "    <tr>\n",
       "      <th>Not commited broker</th>\n",
       "      <td>570</td>\n",
       "    </tr>\n",
       "    <tr>\n",
       "      <th>Reasonably Devoted Brokers</th>\n",
       "      <td>4</td>\n",
       "    </tr>\n",
       "    <tr>\n",
       "      <th>Stagnant Brokers</th>\n",
       "      <td>134</td>\n",
       "    </tr>\n",
       "    <tr>\n",
       "      <th>Steadfast brokers</th>\n",
       "      <td>4</td>\n",
       "    </tr>\n",
       "    <tr>\n",
       "      <th>less Inclined brokers</th>\n",
       "      <td>299</td>\n",
       "    </tr>\n",
       "    <tr>\n",
       "      <th rowspan=\"6\" valign=\"top\">Y</th>\n",
       "      <th>Loyal Brokers</th>\n",
       "      <td>1</td>\n",
       "    </tr>\n",
       "    <tr>\n",
       "      <th>Not commited broker</th>\n",
       "      <td>245</td>\n",
       "    </tr>\n",
       "    <tr>\n",
       "      <th>Reasonably Devoted Brokers</th>\n",
       "      <td>6</td>\n",
       "    </tr>\n",
       "    <tr>\n",
       "      <th>Stagnant Brokers</th>\n",
       "      <td>36</td>\n",
       "    </tr>\n",
       "    <tr>\n",
       "      <th>Steadfast brokers</th>\n",
       "      <td>4</td>\n",
       "    </tr>\n",
       "    <tr>\n",
       "      <th>less Inclined brokers</th>\n",
       "      <td>291</td>\n",
       "    </tr>\n",
       "  </tbody>\n",
       "</table>\n",
       "</div>"
      ],
      "text/plain": [
       "                                         broker_id\n",
       "email_opened loyality_category                    \n",
       "N            Loyal Brokers                       3\n",
       "             Not commited broker               570\n",
       "             Reasonably Devoted Brokers          4\n",
       "             Stagnant Brokers                  134\n",
       "             Steadfast brokers                   4\n",
       "             less Inclined brokers             299\n",
       "Y            Loyal Brokers                       1\n",
       "             Not commited broker               245\n",
       "             Reasonably Devoted Brokers          6\n",
       "             Stagnant Brokers                   36\n",
       "             Steadfast brokers                   4\n",
       "             less Inclined brokers             291"
      ]
     },
     "execution_count": 134,
     "metadata": {},
     "output_type": "execute_result"
    }
   ],
   "source": [
    "final_df.groupby(['email_opened','loyality_category'])[['broker_id']].nunique()"
   ]
  },
  {
   "cell_type": "code",
   "execution_count": null,
   "id": "f01db008",
   "metadata": {},
   "outputs": [],
   "source": []
  }
 ],
 "metadata": {
  "kernelspec": {
   "display_name": "Python 3 (ipykernel)",
   "language": "python",
   "name": "python3"
  },
  "language_info": {
   "codemirror_mode": {
    "name": "ipython",
    "version": 3
   },
   "file_extension": ".py",
   "mimetype": "text/x-python",
   "name": "python",
   "nbconvert_exporter": "python",
   "pygments_lexer": "ipython3",
   "version": "3.11.5"
  }
 },
 "nbformat": 4,
 "nbformat_minor": 5
}
